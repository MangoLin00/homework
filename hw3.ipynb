{
 "cells": [
  {
   "cell_type": "markdown",
   "metadata": {},
   "source": [
    "## algorithm design and anlysis-2025 spring  homework 3\n",
    "**Deadline**：2025.5.14\n",
    "\n",
    "**name**:\n",
    "\n",
    "\n",
    "note：\n",
    "---\n",
    "1. 带有\\*的题目，申请免上课的同学，必须完成，其他同学选作；\n",
    "2. 请独立完成，如求助了他人或者大模型，请著明，并且不可省略算法分析部分；\n",
    "4. 如若作答有雷同，全部取消成绩；\n",
    "3. 需要书面作答的题目，可以通过引用图片的形式添加，但是注意上传项目时包含所引用的图片的源文件；\n",
    "4. $log_n$ 默认表示$log_2{n}$;"
   ]
  },
  {
   "cell_type": "markdown",
   "metadata": {},
   "source": [
    "## 问题 1  \n",
    "\n",
    "请证明基于比较的排序算法计算复杂度下界为$\\Omega(nlogn)$"
   ]
  },
  {
   "cell_type": "markdown",
   "metadata": {},
   "source": [
    "answer：\n",
    "<div style=\"text-align:left;\">\n",
    "  <img alt=\"\" src=\"./handwritten_picture/homework3_question1.png\" style=\"width:100%; height:auto;\">\n",
    "</div>\n",
    "\n"
   ]
  },
  {
   "cell_type": "markdown",
   "metadata": {},
   "source": [
    "## 问题 2 \n",
    "\n",
    "构建二叉搜索树\n",
    "\n",
    "> 1. 给定一个数组 [48, 33, 49, 47, 42, 46, 32], 构建一个二叉搜索树存储这些数据，请**绘制**所构建的**二叉搜索树**（标明结点的值）。\n",
    "> 2. 从第1问的二叉搜索树中删除33，请**绘制**删除33后的**二叉搜索树**（标明结点的值）\n",
    "\n",
    "- 推荐使用graphviz包绘制树的结构"
   ]
  },
  {
   "cell_type": "markdown",
   "metadata": {},
   "source": [
    "\n",
    "answer：\n",
    "<div style=\"text-align:left;\">\n",
    "  <img alt=\"\" src=\"./handwritten_picture/homework3_question2.png\" style=\"width:100%; height:auto;\">\n",
    "</div>"
   ]
  },
  {
   "cell_type": "markdown",
   "metadata": {},
   "source": [
    "## 问题 3 \n",
    "\n",
    "> 下面是九门课程的开始和结束时间:\n",
    ">\n",
    "> [(9:00,12:30), (11:00,14:00), (13:00, 14:30), (9:00,10:30),(13:00, 14:30),(14:00,16:30), (15:00,16:30), (15:00,16:30), (9:00,10:30)]\n",
    ">\n",
    "> 请使用贪婪算法为这九门课分配教室，要求在同一天内安排这些课，并且每个教室同一时间只能安排一门课。\n",
    "\n",
    "**请问最少需要几间教室，罗列出每个教室安排的课程**"
   ]
  },
  {
   "cell_type": "markdown",
   "metadata": {},
   "source": [
    "idea：\n",
    "    \n",
    "算法分析：\n",
    "\n",
    "        按时间排序：首先对课程的开始时间进行排序。这样可以确保按顺序处理每一门课程。\n",
    "        使用小根堆：\n",
    "            当一门新课程开始时，首先检查当前是否有教室空闲（即检查堆顶时间是否小于当前课程的开始时间）。\n",
    "            如果有空闲教室，说明可以使用该教室安排课程，否则就需要新开一间教室。\n",
    "        课程安排：每次安排课程时，更新该教室的结束时间。如果是新开一间教室，就将新课程的结束时间加入堆中。\n",
    "        最小教室数：堆中的大小就是所需的最小教室数量。\n",
    "\n",
    "时间复杂度分析：\n",
    "\n",
    "        排序过程：需要对课程按开始时间进行排序，排序的时间复杂度是 O(n log n)，其中 n 是课程的数量。\n",
    "        堆操作：对于每一门课程，我们都需要执行一次堆操作：\n",
    "            插入新的结束时间到堆中的时间复杂度是 O(log k)，其中 k 是当前教室的数量。\n",
    "            删除堆顶元素（即释放一个教室）时间复杂度是 O(log k)。\n",
    "        由于每门课程都进行一次堆操作，且最多需要 k 个教室，所以堆操作的时间复杂度是 O(n log k)，其中 k 是教室的数量。最坏情况下，k 可能接近 n，因此堆操作的复杂度为 O(n log n)。\n",
    "        整体时间复杂度：综合排序和堆操作，整体的时间复杂度是 O(n log n)。"
   ]
  },
  {
   "cell_type": "code",
   "metadata": {
    "ExecuteTime": {
     "end_time": "2025-05-12T06:13:36.892184Z",
     "start_time": "2025-05-12T06:13:36.881475Z"
    }
   },
   "source": [
    "import heapq\n",
    "\n",
    "def time_to_minutes(t):\n",
    "    hour, minute = map(int, t.split(\":\"))\n",
    "    return hour * 60 + minute\n",
    "\n",
    "def min_classrooms_with_schedule(classes):\n",
    "    classes.sort(key=lambda x: time_to_minutes(x[0]))\n",
    "    heap = []  \n",
    "    classrooms = {}  \n",
    "    classroom_id = 0\n",
    "    for start, end in classes:\n",
    "        start_min = time_to_minutes(start)\n",
    "        end_min = time_to_minutes(end)\n",
    "\n",
    "        if heap and heap[0][0] <= start_min:\n",
    "            _, room = heapq.heappop(heap)\n",
    "        else:\n",
    "            room = classroom_id\n",
    "            classroom_id += 1\n",
    "        if room not in classrooms:\n",
    "            classrooms[room] = []\n",
    "        classrooms[room].append((start, end))\n",
    "        heapq.heappush(heap, (end_min, room))\n",
    "    print(\"\\n最终安排：\")\n",
    "    for room in sorted(classrooms.keys()):\n",
    "        schedule = \", \".join(f\"({start}, {end})\" for start, end in classrooms[room])\n",
    "        print(f\"教室 {room}: {schedule}\")\n",
    "    print(f\"\\n最少需要教室数量：{len(classrooms)}\")\n",
    "\n",
    "classes = [\n",
    "    (\"9:00\", \"12:30\"), (\"11:00\", \"14:00\"), (\"13:00\", \"14:30\"),\n",
    "    (\"9:00\", \"10:30\"), (\"13:00\", \"14:30\"), (\"14:00\", \"16:30\"),\n",
    "    (\"15:00\", \"16:30\"), (\"15:00\", \"16:30\"), (\"9:00\", \"10:30\")\n",
    "]\n",
    "\n",
    "min_classrooms_with_schedule(classes)"
   ],
   "outputs": [
    {
     "name": "stdout",
     "output_type": "stream",
     "text": [
      "\n",
      "最终安排：\n",
      "教室 0: (9:00, 12:30), (13:00, 14:30), (15:00, 16:30)\n",
      "教室 1: (9:00, 10:30), (11:00, 14:00), (14:00, 16:30)\n",
      "教室 2: (9:00, 10:30), (13:00, 14:30), (15:00, 16:30)\n",
      "\n",
      "最少需要教室数量：3\n"
     ]
    }
   ],
   "execution_count": 1
  },
  {
   "cell_type": "markdown",
   "metadata": {},
   "source": [
    "## 问题 4 \n",
    "\n",
    "> 爬楼梯问题：假设爬楼梯时你每次只能爬一阶或者爬两阶，问爬上n阶的楼梯，你一共有多少种方法\n",
    "\n",
    "请设计算法完成该问题，分析算法设计思路，计算时间复杂度，并基于python编程实现"
   ]
  },
  {
   "cell_type": "markdown",
   "metadata": {},
   "source": [
    "idea：\n",
    "\n",
    "算法设计思路如下：\n",
    "        \n",
    "        从目标倒推：到达第 n 阶楼梯，有两种可能的走法：\n",
    "            最后一步是从第 n-1 阶走一步上来。\n",
    "            最后一步是从第 n-2 阶跨两步上来。\n",
    "        走到第 n 阶的方法数 = 走到第 n-1 阶的方法数 + 走到第 n-2 阶的方法数。\n",
    "        不需要存储所有中间的路径数量，只需要记录前一步和前两步有多少种走法。\n",
    "        初始状态如下：\n",
    "            如果只有一级楼梯，只能一步上去，方法数是 1。\n",
    "            如果有两级楼梯，可以是一次走两步，也可以是一次走一步再走一步，方法数是 2。\n",
    "            接下来，每次往上走一级，只需要把前两级的走法数量加起来，就能得到当前这一级的走法数量。\n",
    "            就像是斐波那契数列，每一项等于前两项之和。\n",
    "\n",
    "\n",
    "时间复杂度分析\n",
    "        \n",
    "        遍历次数：从第2阶到第n阶进行一次顺序遍历，每次只进行简单运算。遍历次数与n呈线性关系，因此时间复杂度是 O(n)。\n",
    "        单步操作成本：每次只涉及常数次的加法和赋值运算，单步操作的时间是 O(1)。\n",
    "        整体计算时间：总体来说，n次O(1)操作，总时间复杂度是 O(n)。"
   ]
  },
  {
   "cell_type": "code",
   "metadata": {
    "ExecuteTime": {
     "end_time": "2025-05-12T06:18:56.818828Z",
     "start_time": "2025-05-12T06:18:56.814519Z"
    }
   },
   "source": [
    "def climbStairs(n):\n",
    "    if n <= 1:\n",
    "        return 1\n",
    "    first = 1\n",
    "    second = 1\n",
    "    for i in range(2, n + 1):\n",
    "        current = first + second  \n",
    "        first = second  \n",
    "        second = current\n",
    "    return second  \n",
    "n = 8\n",
    "print(\"总的爬楼梯方法数：\",climbStairs(n))  "
   ],
   "outputs": [
    {
     "name": "stdout",
     "output_type": "stream",
     "text": [
      "总的爬楼梯方法数： 34\n"
     ]
    }
   ],
   "execution_count": 4
  },
  {
   "cell_type": "markdown",
   "metadata": {},
   "source": [
    "## 问题 5 \n",
    "\n",
    "> 0-1背包问题：现在有4块大理石，每个大理石对应的重量和价值使用一个元组表示, 即（重量，价值），4块大理石的重量和价值为：[(5,10), (4,40), (6,30), (3, 50)], 假设你有一辆最大承重为9的小推车，请问使用这个小推车装大理石的最大价值为多少\n",
    "\n",
    "请设计一个算法解决该问题，分析算法设计思路，计算时间复杂度，并基于python编程实现"
   ]
  },
  {
   "cell_type": "markdown",
   "metadata": {},
   "source": [
    "idea：\n",
    "\n",
    "算法分析：\n",
    "        \n",
    "        遍历物品列表：顺序扫描每一件物品，逐个考虑是否将该物品放入推车中。\n",
    "        针对每一个物品，遍历当前所有可能的剩余容量：\n",
    "            如果当前物品的重量小于等于剩余容量，则有两种选择：\n",
    "                不放入当前物品，价值保持不变；\n",
    "                放入当前物品，总价值增加为原来的价值加上当前物品的价值。\n",
    "            取这两种选择中价值较大的结果作为当前位置的最优解。\n",
    "\n",
    "        采用动态规划（dp）来记录每一个物品在每一种容量下的最优价值：\n",
    "            dp[w] 表示在当前容量为 w 时，能够取得的最大总价值。\n",
    "            初始时，所有容量下的价值均为0。\n",
    "            最终，在容量限制为最大承重时，DP表中对应的值即为所求的最大价值。\n",
    "\n",
    "\n",
    "时间复杂度分析：\n",
    "        \n",
    "        遍历物品时间：需要对每一件物品进行处理，假设物品总数为 n，因此遍历物品的时间复杂度为 O(n)。\n",
    "        遍历容量时间：对于每一件物品，需要在容量从最大到最小的范围内进行一次遍历，假设最大承重为 W，因此遍历容量的时间复杂度为 O(W)。\n",
    "        总体计算时间：每个物品对应一次 O(W) 的容量遍历，总体的时间复杂度是 O(n × W)。\n",
    "        整体时间复杂度：综合以上分析，算法整体的时间复杂度是 O(n × W)。"
   ]
  },
  {
   "cell_type": "code",
   "metadata": {
    "ExecuteTime": {
     "end_time": "2025-05-12T06:21:59.515466Z",
     "start_time": "2025-05-12T06:21:59.510325Z"
    }
   },
   "source": [
    "def knapsack(weight, value, capacity):\n",
    "    n = len(weight)\n",
    "    dp = [[0] * (capacity + 1) for _ in range(n + 1)]\n",
    "    for i in range(1, n + 1):\n",
    "        for w in range(1, capacity + 1):\n",
    "            if weight[i - 1] <= w:\n",
    "                dp[i][w] = max(dp[i - 1][w], dp[i - 1][w - weight[i - 1]] + value[i - 1])\n",
    "            else:\n",
    "                dp[i][w] = dp[i - 1][w]\n",
    "    selected_items = []\n",
    "    w = capacity\n",
    "    for i in range(n, 0, -1):\n",
    "        if dp[i][w] != dp[i - 1][w]:\n",
    "            selected_items.append(i - 1)  \n",
    "            w -= weight[i - 1]  \n",
    "    return dp[n][capacity], selected_items\n",
    "\n",
    "weights = [5, 4, 6, 3]  \n",
    "values = [10, 40, 30, 50]\n",
    "capacity = 9  \n",
    "\n",
    "max_value, selected = knapsack(weights, values, capacity)\n",
    "\n",
    "print(f\"最大价值为: {max_value}\")\n",
    "print(\"选中的大理石如下：\")\n",
    "for idx in reversed(selected):  \n",
    "    print(f\"  第{idx + 1}块大理石 ---- 重量: {weights[idx]}, 价值: {values[idx]}\")"
   ],
   "outputs": [
    {
     "name": "stdout",
     "output_type": "stream",
     "text": [
      "最大价值为: 90\n",
      "选中的大理石如下：\n",
      "  第2块大理石 ---- 重量: 4, 价值: 40\n",
      "  第4块大理石 ---- 重量: 3, 价值: 50\n"
     ]
    }
   ],
   "execution_count": 5
  },
  {
   "cell_type": "markdown",
   "metadata": {},
   "source": [
    "## 问题 6 \n",
    "给定 `n` 个非负整数表示每个宽度为 `1` 的柱子的高度图，计算按此排列的柱子，下雨之后能接多少雨水。\n",
    "\n",
    "\n",
    "\n",
    "<div style=\"text-align:center;width:800px;\"> <img alt=\"\" src=\"./fig/hw3q6.png\"> </div>\n",
    "\n",
    "请分析算法设计思路，计算时间复杂度，并基于python编程实现"
   ]
  },
  {
   "cell_type": "markdown",
   "metadata": {},
   "source": [
    "idea：\n",
    "\n",
    "算法分析：\n",
    "        \n",
    "        遍历每个柱子，计算当前柱子上方能够接到的水量。\n",
    "            为了计算每个柱子能够接到的水量：需要计算当前柱子左边的最大高度和当前柱子右边的最大高度。\n",
    "            可以分别用两个数组来存储这些信息：left_max[i] 表示 i 位置左边的最大高度，right_max[i] 表示 i 位置右边的最大高度。\n",
    "            通过 水量=min(left_max[i],right_max[i])−height[i] 计算每个位置上方的水量。\n",
    "            如果结果大于0，就说明该位置能接水，否则不能接水。\n",
    "        计算过程：\n",
    "            遍历两次数组，第一次从左到右计算 left_max，第二次从右到左计算 right_max。\n",
    "            再次遍历柱子，根据 left_max 和 right_max 计算每个柱子上方的水量并累加，最终得到总水量。\n",
    "\n",
    "\n",
    "时间复杂度分析：\n",
    "        \n",
    "        计算 left_max：遍历一次数组，时间复杂度是 O(n)，n 是柱子的数量。\n",
    "        计算 right_max：同样需要遍历一次数组，时间复杂度是 O(n)。\n",
    "        计算水量：遍历一次柱子，计算每个柱子上方的水量，时间复杂度是 O(n)。\n",
    "        综合时间复杂度：整体算法时间复杂度是 O(n)，其中 n 是柱子的数量，因为遍历了三次数组。"
   ]
  },
  {
   "cell_type": "code",
   "metadata": {
    "ExecuteTime": {
     "end_time": "2025-05-12T06:44:54.213397Z",
     "start_time": "2025-05-12T06:44:54.207961Z"
    }
   },
   "source": [
    "def max_rain_accept(height):\n",
    "    n = len(height)\n",
    "    if n < 3:\n",
    "        return 0\n",
    "    left_max = [0] * n\n",
    "    right_max = [0] * n\n",
    "\n",
    "    left_max[0] = height[0]\n",
    "    for i in range(1, n):\n",
    "        left_max[i] = max(left_max[i - 1], height[i])\n",
    "\n",
    "    right_max[n - 1] = height[n - 1]\n",
    "    for i in range(n - 2, -1, -1):\n",
    "        right_max[i] = max(right_max[i + 1], height[i])\n",
    "\n",
    "    total_water = 0\n",
    "    for i in range(n):\n",
    "        total_water += min(left_max[i], right_max[i]) - height[i]\n",
    "    return total_water\n",
    "\n",
    "height1 = [0, 1, 0, 2, 1, 0, 1, 3, 2, 1, 2, 1]\n",
    "height2 = [4, 2, 0, 3, 2, 5]\n",
    "print(\"测试1 - 最大接收雨水量：\", max_rain_accept(height1))  \n",
    "print(\"测试2 - 最大接收雨水量：\", max_rain_accept(height2))  "
   ],
   "outputs": [
    {
     "name": "stdout",
     "output_type": "stream",
     "text": [
      "测试1 - 最大接收雨水量： 6\n",
      "测试2 - 最大接收雨水量： 9\n"
     ]
    }
   ],
   "execution_count": 7
  },
  {
   "cell_type": "markdown",
   "metadata": {},
   "source": [
    "## 问题 7 \n",
    "\n",
    "**股票投资组合优化**： 假设你是一位投资者，想要在不同的股票中分配你的资金，以最大化你的投资回报。每只股票都有不同的预期收益率和风险。你的目标是选择一些股票，使得总投资金额不超过你的预算，并且预期收益最大化。\n",
    "\n",
    "在这个情况下，你可以将每只股票视为一个“物品”，其重量为投资金额，价值为预期收益率。然后，你可以使用分级背包问题的方法来选择部分股票，以便在预算内获得最大的预期收益。\n",
    "\n",
    "以下是一个简化的例子：\n",
    "\n",
    "假设你有以下三只股票可供选择：\n",
    "\n",
    "1. 股票 A：投资金额 5000 美元，预期收益率 10%\n",
    "2. 股票 B：投资金额 3000 美元，预期收益率 8%\n",
    "3. 股票 C：投资金额 2000 美元，预期收益率 12%\n",
    "\n",
    "请设计算法找到最优投资方案，分析算法设计思路，计算时间复杂度，并基于python编程实现"
   ]
  },
  {
   "cell_type": "markdown",
   "metadata": {},
   "source": [
    "idea：\n",
    "\n",
    "算法分析：\n",
    "        \n",
    "        依次遍历：从第 1 个到第 n 个，逐个考虑是否放入背包。\n",
    "            遍历背包容量从大到小，判断当前物品能否放进背包。\n",
    "                如果能放进去，则比较：不放入当前物品时的最大价值与放入当前物品后的最大价值。\n",
    "                取二者中的较大者作为当前状态的最优解。\n",
    "        状态转移方式：\n",
    "            使用一维数组 dp[w] 表示容量为 w 时可以获得的最大价值。\n",
    "            更新 dp[w] 时，需要依赖 dp[w - weight[i]] 的值，因此为了避免数据被覆盖，需要从大到小倒序更新容量 w。\n",
    "        最终结果：遍历完成后，dp[capacity] 即为在最大承重限制下能获得的最大价值。\n",
    "\n",
    "时间复杂度分析：\n",
    "    \n",
    "        遍历物品时间：外层循环需要遍历所有物品，总共 n 个，因此时间复杂度是 O(n)。\n",
    "        遍历背包容量时间：对于每一个物品，需要从当前最大容量 capacity 倒着遍历到 0，最多 capacity 次，因此是 O(capacity)。\n",
    "        综合时间复杂度：外层 n 次，内层 capacity 次，总体是 O(n × capacity)。"
   ]
  },
  {
   "cell_type": "code",
   "metadata": {
    "ExecuteTime": {
     "end_time": "2025-05-12T06:49:28.648611Z",
     "start_time": "2025-05-12T06:49:28.609160Z"
    }
   },
   "source": [
    "def max_profit(stocks, budget):\n",
    "    n = len(stocks)\n",
    "    dp = [0] * (budget + 1)\n",
    "    choose = [set() for _ in range(budget + 1)] \n",
    "    for i in range(n):\n",
    "        investment, profit_rate = stocks[i]\n",
    "        actual_profit = investment * (profit_rate / 100)\n",
    "        for w in range(budget, investment - 1, -1):\n",
    "            if dp[w] < dp[w - investment] + actual_profit:\n",
    "                dp[w] = dp[w - investment] + actual_profit\n",
    "                choose[w] = choose[w - investment].copy()\n",
    "                choose[w].add(i)  \n",
    "    selected_stocks = choose[budget]\n",
    "    total_investment = sum(stocks[i][0] for i in selected_stocks)\n",
    "    total_profit = dp[budget]\n",
    "    print(\"选择投资的股票编号（从0开始）：\", sorted(selected_stocks))\n",
    "    print(f\"总投资金额：{total_investment} 元\")\n",
    "    print(f\"最大预期收益：{total_profit:.2f} 元\")\n",
    "    return total_profit\n",
    "\n",
    "stocks = [\n",
    "    (5000, 10),  # 股票A：投资5000，回报10%\n",
    "    (3000, 8),   # 股票B：投资3000，回报8%\n",
    "    (2000, 12)   # 股票C：投资2000，回报12%\n",
    "]\n",
    "# 总投资金额\n",
    "budget = 7000\n",
    "# 计算最大回报\n",
    "result = max_profit(stocks, budget)"
   ],
   "outputs": [
    {
     "name": "stdout",
     "output_type": "stream",
     "text": [
      "选择投资的股票编号（从0开始）： [0, 2]\n",
      "总投资金额：7000 元\n",
      "最大预期收益：740.00 元\n"
     ]
    }
   ],
   "execution_count": 11
  },
  {
   "cell_type": "markdown",
   "metadata": {},
   "source": [
    "## 问题 8\n",
    "\n",
    "给你二叉搜索树的根节点 root ，该树中的恰好两个节点的值被错误地交换。请在不改变其结构的情况下，恢复这棵树 。设计算法解决该问题，分析算法设计思路，计算时间复杂度，并基于python编程实现\n",
    "\n",
    "e.g.:\n",
    "---\n",
    "1.\n",
    "\n",
    "<div style=\"text-align:center;width:200px;\"> <img alt=\"\" src=\"./fig/hw3q9-1.jpg\"> </div>\n",
    "输入：root = [1,3,null,null,2]， 输出为：[3,1,null,null,2]， \n",
    "\n",
    "解释：3 不能是 1 的左孩子，因为 3 > 1 。交换 1 和 3 使二叉搜索树有效。\n",
    "\n",
    "2.\n",
    "\n",
    " <div style=\"text-align:center;width:200px;\"> <img alt=\"\" src=\"./fig/hw3q9-1.jpg\"> </div>\n",
    "输入： root=[3,1,4,null,null,2]， 输出为：[2,1,4,null,null,3]\n",
    "\n",
    "解释：2 不能在 3 的右子树中，因为 2 < 3 。交换 2 和 3 使二叉搜索树有效。"
   ]
  },
  {
   "cell_type": "markdown",
   "metadata": {},
   "source": [
    "idea：\n",
    "\n",
    "算法分析：\n",
    "        \n",
    "        遍历树结构：利用中序遍历的方式来解决这个问题。在二叉搜索树中，中序遍历的结果应该是一个递增的数组。然而，由于某两个节点的值被交换，中序遍历的结果将不再是递增的，而是出现两个逆序的位置。\n",
    "        检测交换的节点：\n",
    "            在中序遍历过程中，找到出现逆序的两个节点。在遍历时，当前节点的值小于前一个节点的值，就说明这两个节点的位置发生了交换。\n",
    "            如果发生了逆序，记录下这两个节点，为node1和node2。\n",
    "            由于可能发生两种情况：\n",
    "                如果只有两个节点的值被交换，那么这两个节点就是我们需要交换的节点。\n",
    "                如果存在多个逆序对，需要交换第一个逆序对的第一个节点和最后一个逆序对的第二个节点。\n",
    "        恢复树结构：交换node1和node2的值，即可恢复二叉搜索树的结构。\n",
    "        \n",
    "        详细步骤：中序遍历：执行中序遍历并在遍历过程中检查是否存在逆序对。\n",
    "                记录逆序节点：当发现逆序时，记录下发生逆序的节点。\n",
    "                交换节点值：在找到这两个节点后，交换它们的值。\n",
    "\n",
    "时间复杂度分析：\n",
    "        \n",
    "        中序遍历：需要对树进行一次完整的中序遍历，每个节点都会被访问一次。因此，遍历的时间复杂度是O(n)，其中n是树中的节点数量。\n",
    "        记录逆序节点：在中序遍历过程中，每次发现逆序节点时，我们记录下来，这个操作的时间复杂度也是O(1)，所以总共的时间复杂度是O(n)。\n",
    "        综上所述，整个算法的时间复杂度是O(n)。"
   ]
  },
  {
   "cell_type": "code",
   "metadata": {
    "ExecuteTime": {
     "end_time": "2025-05-13T01:59:46.906492Z",
     "start_time": "2025-05-13T01:59:46.899513Z"
    }
   },
   "source": [
    "class TreeNode:\n",
    "    def __init__(self, val=0, left=None, right=None):\n",
    "        self.val = val\n",
    "        self.left = left\n",
    "        self.right = right\n",
    "\n",
    "def recoverTree(root):\n",
    "    first = second = prev = None\n",
    "    def inorder(node):\n",
    "        nonlocal first, second, prev\n",
    "        if node is None:\n",
    "            return\n",
    "        inorder(node.left)\n",
    "        if prev and prev.val > node.val:\n",
    "            if first is None:\n",
    "                first = prev\n",
    "            second = node\n",
    "        prev = node\n",
    "        inorder(node.right)\n",
    "    inorder(root)\n",
    "    if first and second:\n",
    "        first.val, second.val = second.val, first.val\n",
    "    return root\n",
    "\n",
    "def serialize(root):\n",
    "    if root is None:\n",
    "        return []\n",
    "    queue = [root]\n",
    "    res = []\n",
    "    head = 0\n",
    "    while head < len(queue):\n",
    "        node = queue[head]\n",
    "        head += 1\n",
    "        if node is None:\n",
    "            res.append(None)\n",
    "        else:\n",
    "            res.append(node.val)\n",
    "            queue.append(node.left)\n",
    "            queue.append(node.right)\n",
    "    while res and res[-1] is None:\n",
    "        res.pop()\n",
    "    return res\n",
    "\n",
    "# —— 测试用例 —— #\n",
    "if __name__ == \"__main__\":\n",
    "    # 示例 1：输入 [1,3,null,null,2]\n",
    "    root1 = TreeNode(1)\n",
    "    root1.left = TreeNode(3)\n",
    "    root1.left.right = TreeNode(2)\n",
    "    recoverTree(root1)\n",
    "    out1 = serialize(root1)\n",
    "    print(\"示例 1 恢复后输出：\", out1)\n",
    "\n",
    "    # 示例 2：输入 [3,1,4,null,null,2]\n",
    "    root2 = TreeNode(3)\n",
    "    root2.left  = TreeNode(1)\n",
    "    root2.right = TreeNode(4)\n",
    "    root2.right.left = TreeNode(2)\n",
    "    recoverTree(root2)\n",
    "    out2 = serialize(root2)\n",
    "    print(\"示例 2 恢复后输出：\", out2)"
   ],
   "outputs": [
    {
     "name": "stdout",
     "output_type": "stream",
     "text": [
      "示例 1 恢复后输出： [3, 1, None, None, 2]\n",
      "示例 2 恢复后输出： [2, 1, 4, None, None, 3]\n"
     ]
    }
   ],
   "execution_count": 7
  },
  {
   "cell_type": "markdown",
   "metadata": {},
   "source": [
    "## 问题 9  \n",
    "\n",
    "给你一个二叉树的根节点 root ，树中每个节点都存放有一个 0 到 9 之间的数字。每条从根节点到叶节点的路径都代表一个数字：\n",
    "\n",
    "> 例如，从根节点到叶节点的路径 1 -> 2 -> 3 表示数字 123 。\n",
    "\n",
    "设计一个算法计算从根节点到叶节点生成的所有数字之和 ，分析算法设计思路，计算时间复杂度，并基于python编程实现\n",
    "\n",
    "叶节点:是指没有子节点的节点。\n",
    "\n",
    "e.g.:\n",
    "---\n",
    "1.\n",
    "\n",
    " <div style=\"text-align:center;width:200px;\"> <img alt=\"figure\" src=\"./fig/hw3q10-1.jpg\"> </div>\n",
    "\n",
    " 输入：root = [1,2,3], 输出：25\n",
    "\n",
    "解释：从根到叶子节点路径 1->2 代表数字 12，1->3 代表数字 13，因此和为 12 + 13 = 25 。\n",
    "\n",
    "2.\n",
    "\n",
    " <div style=\"text-align:center;width:200px;\"> <img alt=\"figure\" src=\"./fig/hw3q10-2.jpg\"> </div>\n",
    "\n",
    " 输入：root = [4,9,0,5,1], 输出：1026\n",
    "\n",
    "解释：从根到叶子节点路径 4->9->5 代表数字 495，4->9->1 代表数字 491，4->0 代表数字 40。因此和为 495 + 491 + 40 = 1026 。"
   ]
  },
  {
   "cell_type": "markdown",
   "metadata": {},
   "source": [
    "idea：\n",
    "\n",
    "算法设计\n",
    "        \n",
    "        遍历整棵树，构造每条路径对应的数字\n",
    "            采用深度优先搜索方式，从根节点出发，向下遍历每一条路径。每经过一个节点，就在之前的路径数字基础上，乘以 10 再加上当前节点的值，形成新的数字。\n",
    "        到达叶子节点时收集结果\n",
    "            如果当前节点是叶子节点，说明从根到叶的一条完整路径已经形成，直接将当前累积的数字加到总和中。\n",
    "        不断递归累加左右子树的结果\n",
    "            如果不是叶子节点，继续分别递归访问左子树和右子树，并将它们的结果相加返回。\n",
    "\n",
    "\n",
    "时间复杂度分析\n",
    "        \n",
    "        遍历时间:整棵树的每个节点都被访问一次，每次访问做常数次计算，因此遍历时间复杂度是 O(n)，其中 n 是树中的节点数量。\n",
    "        时间复杂度：O(n)"
   ]
  },
  {
   "cell_type": "code",
   "metadata": {
    "ExecuteTime": {
     "end_time": "2025-05-13T02:03:00.795199Z",
     "start_time": "2025-05-13T02:03:00.787493Z"
    }
   },
   "source": [
    "class TreeNode:\n",
    "    def __init__(self, val=0, left=None, right=None):\n",
    "        self.val = val\n",
    "        self.left = left\n",
    "        self.right = right\n",
    "\n",
    "def sumNumbers(root: TreeNode) -> int:\n",
    "    all_paths = []  \n",
    "    all_nums = []   \n",
    "    def dfs(node, path, num):\n",
    "        if not node:\n",
    "            return\n",
    "        path.append(node.val)\n",
    "        num = num * 10 + node.val\n",
    "        if not node.left and not node.right:  \n",
    "            all_paths.append(list(path))\n",
    "            all_nums.append(num)\n",
    "        else:\n",
    "            dfs(node.left, path, num)\n",
    "            dfs(node.right, path, num)\n",
    "        path.pop()  \n",
    "\n",
    "    dfs(root, [], 0)\n",
    "    for idx, (p, n) in enumerate(zip(all_paths, all_nums), start=1):\n",
    "        path_str = \" -> \".join(map(str, p))\n",
    "        print(f\"路径{idx}: {path_str}  表示数字: {n}\")\n",
    "    total_sum = sum(all_nums)\n",
    "    print(\"所有路径对应数字的总和为：\", total_sum)\n",
    "    return total_sum\n",
    "# 示例一\n",
    "root2 = TreeNode(1)\n",
    "root2.left = TreeNode(2)\n",
    "root2.right = TreeNode(3)\n",
    "\n",
    "print(\"\\n示例一路径对应的数字：\")\n",
    "sumNumbers(root2)\n",
    "# 示例二 \n",
    "root1 = TreeNode(4)\n",
    "root1.left = TreeNode(9)\n",
    "root1.right = TreeNode(0)\n",
    "root1.left.left = TreeNode(5)\n",
    "root1.left.right = TreeNode(1)\n",
    "\n",
    "print(\"示例二路径对应的数字：\")\n",
    "sumNumbers(root1)"
   ],
   "outputs": [
    {
     "name": "stdout",
     "output_type": "stream",
     "text": [
      "\n",
      "示例一路径对应的数字：\n",
      "路径1: 1 -> 2  表示数字: 12\n",
      "路径2: 1 -> 3  表示数字: 13\n",
      "所有路径对应数字的总和为： 25\n",
      "示例二路径对应的数字：\n",
      "路径1: 4 -> 9 -> 5  表示数字: 495\n",
      "路径2: 4 -> 9 -> 1  表示数字: 491\n",
      "路径3: 4 -> 0  表示数字: 40\n",
      "所有路径对应数字的总和为： 1026\n"
     ]
    },
    {
     "data": {
      "text/plain": [
       "1026"
      ]
     },
     "execution_count": 12,
     "metadata": {},
     "output_type": "execute_result"
    }
   ],
   "execution_count": 12
  },
  {
   "cell_type": "markdown",
   "metadata": {},
   "source": [
    "## 问题 10  \n",
    "\n",
    "给你一个二叉树的根节点 root ， 检查它是否轴对称。\n",
    "\n",
    "1. 分析算法设计思路，计算时间复杂度，并基于python编程实现\n",
    "2. \\* 设计使用递归和迭代两种方法解决这个问题，计算时间复杂度，并基于python编程实现\n",
    "\n",
    "e.g.:\n",
    "---\n",
    "1.\n",
    "\n",
    " <div style=\"text-align:center;width:200px;\"> <img alt=\"figure\" src=\"./fig/hw3q11-1.png\"> </div>\n",
    "\n",
    " 输入：root = [1,2,2,3,4,4,3]， 输出：true\n",
    "\n",
    "解释：二叉树 [1,2,2,3,4,4,3] 对称。\n",
    "\n",
    "2.\n",
    "\n",
    " <div style=\"text-align:center;width:200px;\"> <img alt=\"figure\" src=\"./fig/hw3q11-2.png\"> </div>\n",
    "\n",
    " 输入：root = [1,2,2,null,3,null,3]， 输出：false"
   ]
  },
  {
   "cell_type": "markdown",
   "metadata": {},
   "source": [
    "idea：\n",
    "\n",
    "算法设计\n",
    "        \n",
    "        采用递归的方式来判断一棵树是否对称：\n",
    "            树的左子树和右子树的根节点值应该相同。\n",
    "            左子树的左子树与右子树的右子树应对称，并且左子树的右子树与右子树的左子树应对称。\n",
    "        递归的终止条件是：\n",
    "            如果左右节点都为空，则说明该部分树对称。\n",
    "            如果一个为空另一个不为空，则该树不对称。\n",
    "        递归过程\n",
    "            从根节点开始，判断其左右子树是否镜像对称。\n",
    "            对每一对左右子树，递归判断其左右子树是否对称。\n",
    "            判断 root.left 和 root.right 是否对称：如果 root.left 和 root.right 都为空，则说明对称，返回True。\n",
    "            判断 root.left 和 root.right 的值是否相等，如果不相等，则返回False。\n",
    "            递归判断：root.left.left 和 root.right.right 是否对称，并且 root.left.right 和 root.right.left 是否对称。\n",
    "\n",
    "时间复杂度分析\n",
    "        \n",
    "        时间复杂度：O(n)，其中n是二叉树中的节点数。每个节点只会被访问一次，因此总的时间复杂度是 O(n)。"
   ]
  },
  {
   "cell_type": "code",
   "metadata": {
    "ExecuteTime": {
     "end_time": "2025-05-12T07:29:00.669848Z",
     "start_time": "2025-05-12T07:29:00.663804Z"
    }
   },
   "source": [
    "# 问题一代码\n",
    "class TreeNode:\n",
    "    def __init__(self, val=0, left=None, right=None):\n",
    "        self.val = val\n",
    "        self.left = left\n",
    "        self.right = right\n",
    "\n",
    "def isSymmetric(root: TreeNode) -> bool:\n",
    "    def isMirror(t1, t2):\n",
    "        if not t1 and not t2:\n",
    "            return True\n",
    "        if not t1 or not t2:\n",
    "            return False\n",
    "        return (t1.val == t2.val) and isMirror(t1.left, t2.right) and isMirror(t1.right, t2.left)\n",
    "    if not root:\n",
    "        return True\n",
    "    return isMirror(root.left, root.right)\n",
    "\n",
    "# 测试示例一\n",
    "root1 = TreeNode(1)\n",
    "root1.left = TreeNode(2)\n",
    "root1.right = TreeNode(2)\n",
    "root1.left.left = TreeNode(3)\n",
    "root1.left.right = TreeNode(4)\n",
    "root1.right.left = TreeNode(4)\n",
    "root1.right.right = TreeNode(3)\n",
    "\n",
    "# 测试示例二\n",
    "root2 = TreeNode(1)\n",
    "root2.left = TreeNode(2)\n",
    "root2.right = TreeNode(2)\n",
    "root2.left.right = TreeNode(3)\n",
    "root2.right.right = TreeNode(3)\n",
    "\n",
    "\n",
    "print(\"示例一是否为对称二叉树：\", isSymmetric(root1))  \n",
    "print(\"示例二是否为对称二叉树：\", isSymmetric(root2))  "
   ],
   "outputs": [
    {
     "name": "stdout",
     "output_type": "stream",
     "text": [
      "示例一是否为对称二叉树： True\n",
      "示例二是否为对称二叉树： False\n"
     ]
    }
   ],
   "execution_count": 27
  },
  {
   "metadata": {
    "ExecuteTime": {
     "end_time": "2025-05-13T02:04:16.640230Z",
     "start_time": "2025-05-13T02:04:16.633232Z"
    }
   },
   "cell_type": "code",
   "source": [
    "# 问题二代码\n",
    "from collections import deque\n",
    "class TreeNode:\n",
    "    def __init__(self, val=0, left=None, right=None):\n",
    "        self.val   = val\n",
    "        self.left  = left\n",
    "        self.right = right\n",
    "def is_symmetric_recursive(root: TreeNode) -> bool:\n",
    "    def is_mirror(t1: TreeNode, t2: TreeNode) -> bool:\n",
    "        if not t1 and not t2:\n",
    "            return True\n",
    "        if not t1 or not t2:\n",
    "            return False\n",
    "        return (t1.val == t2.val\n",
    "                and is_mirror(t1.left,  t2.right)\n",
    "                and is_mirror(t1.right, t2.left))\n",
    "    if not root:\n",
    "        return True\n",
    "    return is_mirror(root.left, root.right)\n",
    "def is_symmetric_iterative(root: TreeNode) -> bool:\n",
    "    if not root:\n",
    "        return True\n",
    "    queue = deque([root.left, root.right])\n",
    "    while queue:\n",
    "        t1 = queue.popleft()\n",
    "        t2 = queue.popleft()\n",
    "        if not t1 and not t2:\n",
    "            continue\n",
    "        if not t1 or not t2 or t1.val != t2.val:\n",
    "            return False\n",
    "        queue.append(t1.left)\n",
    "        queue.append(t2.right)\n",
    "        queue.append(t1.right)\n",
    "        queue.append(t2.left)\n",
    "    return True\n",
    "# 示例 1：对称二叉树 [1,2,2,3,4,4,3]\n",
    "#       1\n",
    "#      / \\\n",
    "#     2   2\n",
    "#    / \\ / \\\n",
    "#   3  4 4  3\n",
    "n1 = TreeNode(1)\n",
    "n1.left  = TreeNode(2, TreeNode(3), TreeNode(4))\n",
    "n1.right = TreeNode(2, TreeNode(4), TreeNode(3))\n",
    "\n",
    "# 示例 2：非对称二叉树 [1,2,2,null,3,null,3]\n",
    "#       1\n",
    "#      / \\\n",
    "#     2   2\n",
    "#      \\   \\\n",
    "#       3   3\n",
    "n2 = TreeNode(1)\n",
    "n2.left  = TreeNode(2, None, TreeNode(3))\n",
    "n2.right = TreeNode(2, None, TreeNode(3))\n",
    "\n",
    "for name, func in [\n",
    "    (\"递归方法\",    is_symmetric_recursive),\n",
    "    (\"迭代方法\",    is_symmetric_iterative),\n",
    "]:\n",
    "    print(f\"{name} 判定示例1（对称）:\", func(n1))  \n",
    "    print(f\"{name} 判定示例2（非对称）:\", func(n2))  \n"
   ],
   "outputs": [
    {
     "name": "stdout",
     "output_type": "stream",
     "text": [
      "递归方法 判定示例1（对称）: True\n",
      "递归方法 判定示例2（非对称）: False\n",
      "迭代方法 判定示例1（对称）: True\n",
      "迭代方法 判定示例2（非对称）: False\n"
     ]
    }
   ],
   "execution_count": 13
  },
  {
   "cell_type": "markdown",
   "metadata": {},
   "source": [
    "## 问题 11  \n",
    "\n",
    "给你一个由 '1'（陆地）和 '0'（水）组成的的二维网格，请你计算网格中岛屿的数量。岛屿总是被水包围，并且每座岛屿只能由水平方向和/或竖直方向上相邻的陆地连接形成。\n",
    "\n",
    "此外，你可以假设该网格的四条边均被水包围。\n",
    "\n",
    "分析算法设计思路，计算时间复杂度，并基于python编程实现\n",
    "\n",
    "e.g.:\n",
    "---\n",
    "1.\n",
    "输入：grid = [\n",
    "\n",
    "    [\"1\",\"1\",\"1\",\"1\",\"0\"],\n",
    "\n",
    "    [\"1\",\"1\",\"0\",\"1\",\"0\"], \n",
    "\n",
    "    [\"1\",\"1\",\"0\",\"0\",\"0\"], \n",
    "\n",
    "    [\"0\",\"0\",\"0\",\"0\",\"0\"]  \n",
    "\n",
    "]\n",
    "\n",
    "输出：1\n",
    "\n",
    "2.\n",
    "输入：grid = [\n",
    "\n",
    "    [\"1\",\"1\",\"0\",\"0\",\"0\"],\n",
    "\n",
    "    [\"1\",\"1\",\"0\",\"0\",\"0\"],\n",
    "\n",
    "    [\"0\",\"0\",\"1\",\"0\",\"0\"],\n",
    "\n",
    "    [\"0\",\"0\",\"0\",\"1\",\"1\"]\n",
    "\n",
    "]\n",
    "\n",
    "输出：3"
   ]
  },
  {
   "cell_type": "markdown",
   "metadata": {},
   "source": [
    "idea:\n",
    "\n",
    "算法设计：\n",
    "       \n",
    "        遍历整个网格，如果某个位置是水域（值为1），就进行深度优先搜索（DFS），找到所有相连的水域，并将这些水域标记为已访问（将1改为0）。\n",
    "        每次从未访问过的水域开始深度优先搜索，遍历一整个区域，最终区域计数加1。\n",
    "        对于每个水域，DFS 会递归搜索相邻的四个方向（上、下、左、右），直到无法继续搜索为止。\n",
    "        设计步骤：\n",
    "            从左上角开始，遍历每个元素。\n",
    "            当遇到一个未访问过的1时，开始执行DFS，标记该位置及其相邻的水域为已访问。\n",
    "            最终返回水域区域的数量。\n",
    "\n",
    "时间复杂度分析：\n",
    "        \n",
    "        遍历时间：需要遍历整个网格，访问每个格子一次，时间复杂度为 O(m * n)，其中 m 和 n 分别是网格的行数和列数。\n",
    "        DFS 操作时间：对于每一个未访问过的水域，DFS 会将所有相连的水域标记为已访问。因此，DFS 总共访问每个水域一次，每次DFS的时间复杂度为 O(m * n)。\n",
    "        时间复杂度：由于DFS遍历过程中不会重复遍历任何水域，因此整体的时间复杂度为 O(m * n)。"
   ]
  },
  {
   "cell_type": "code",
   "metadata": {
    "ExecuteTime": {
     "end_time": "2025-05-13T02:06:26.434145Z",
     "start_time": "2025-05-13T02:06:26.428497Z"
    }
   },
   "source": [
    "def numIslands(grid):\n",
    "    if not grid:\n",
    "        return 0\n",
    "\n",
    "    def dfs(grid, i, j):\n",
    "        if i < 0 or j < 0 or i >= len(grid) or j >= len(grid[0]) or grid[i][j] == '0':\n",
    "            return\n",
    "        grid[i][j] = '0'\n",
    "        dfs(grid, i + 1, j)\n",
    "        dfs(grid, i - 1, j)\n",
    "        dfs(grid, i, j + 1)\n",
    "        dfs(grid, i, j - 1)\n",
    "    count = 0\n",
    "    for i in range(len(grid)):\n",
    "        for j in range(len(grid[0])):\n",
    "            if grid[i][j] == '1':  \n",
    "                dfs(grid, i, j)  \n",
    "                count += 1  \n",
    "    return count\n",
    "# 测试用例\n",
    "grid1 = [\n",
    "    [\"1\", \"1\", \"1\", \"1\", \"0\"],\n",
    "    [\"1\", \"1\", \"0\", \"1\", \"0\"],\n",
    "    [\"1\", \"1\", \"0\", \"0\", \"0\"],\n",
    "    [\"0\", \"0\", \"0\", \"0\", \"0\"]\n",
    "]\n",
    "\n",
    "grid2 = [\n",
    "    [\"1\", \"1\", \"0\", \"0\", \"0\"],\n",
    "    [\"1\", \"1\", \"0\", \"0\", \"0\"],\n",
    "    [\"0\", \"0\", \"1\", \"0\", \"0\"],\n",
    "    [\"0\", \"0\", \"0\", \"1\", \"1\"]\n",
    "]\n",
    "\n",
    "print(numIslands(grid1))  \n",
    "print(numIslands(grid2))  "
   ],
   "outputs": [
    {
     "name": "stdout",
     "output_type": "stream",
     "text": [
      "1\n",
      "3\n"
     ]
    }
   ],
   "execution_count": 15
  }
 ],
 "metadata": {
  "kernelspec": {
   "display_name": "Python 3",
   "language": "python",
   "name": "python3"
  },
  "language_info": {
   "name": "python",
   "version": "3.11.9"
  }
 },
 "nbformat": 4,
 "nbformat_minor": 2
}
