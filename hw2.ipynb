{
 "cells": [
  {
   "cell_type": "markdown",
   "metadata": {},
   "source": [
    "## algorithm design and anlysis-2025 spring  homework 2\n",
    "**Deadline**：2025.5.14\n",
    "\n",
    "**name**:\n",
    "\n",
    "\n",
    "note：\n",
    "---\n",
    "1. 带有\\*的题目，申请免上课的同学，必须完成，其他同学选作；\n",
    "2. 请独立完成，如求助了他人或者大模型，请著明，并且不可省略算法分析部分；\n",
    "4. 如若作答有雷同，全部取消成绩；\n",
    "3. 需要书面作答的题目，可以通过引用图片的形式添加，但是注意上传项目时包含所引用的图片的源文件；\n",
    "4. $log_n$ 默认表示$log_2{n}$;"
   ]
  },
  {
   "cell_type": "markdown",
   "metadata": {},
   "source": [
    "## 问题 1  \n",
    "\n",
    "> 给定一个已排序的链表的头 `head` ， *删除所有重复的元素，使每个元素只出现一次* 。返回 *已排序的链表* 。链表的类如下所示：\n",
    "\n",
    "```python\n",
    "class NodeList:\n",
    "    def __init__(self, val=None, right=None):\n",
    "        self.val   = val\n",
    "        self.right = right\n",
    "```\n",
    "\n",
    "输入是一个数组，你首先需要将数组转化为链表，然后删除链表中的重复元素，再遍历链表元素，以一个数组的形式返回。请设计一个算法解决上述任务，分析算法设计思路，计算时间复杂度, 并基于python编程实现。\n",
    "\n",
    "e.g.  输入：head=[1, 1, 2, 3, 3]   输出：[1, 2, 3]\n",
    "\n",
    "![image-20240502110020439](./fig/hw2q1.png)\n",
    "\n"
   ]
  },
  {
   "cell_type": "markdown",
   "metadata": {},
   "source": [
    "idea：\n",
    "\n",
    "算法分析：\n",
    "\n",
    "    使用一个指针 current，从链表头开始。\n",
    "    每次比较 current.val 和 current.right.val：\n",
    "    如果一样，跳过下一个节点：current.right = current.right.right\n",
    "    如果不一样，往后移动一格：current = current.right\n",
    "    遍历结束时，链表中就没有重复元素了。\n",
    "\n",
    "时间复杂度分析：\n",
    "\n",
    "    遍历部分： 指针从头走到尾，链表有 n 个节点，每个节点最多访问一次，所以遍历的时间复杂度是 O(n)。\n"
   ]
  },
  {
   "cell_type": "code",
   "metadata": {
    "ExecuteTime": {
     "end_time": "2025-05-09T10:00:30.560669Z",
     "start_time": "2025-05-09T10:00:30.552256Z"
    }
   },
   "source": [
    "class NodeList:\n",
    "    def __init__(self, val=None, right=None):\n",
    "        self.val = val\n",
    "        self.right = right       \n",
    "def delete_duplicates(head):\n",
    "    current = head  \n",
    "    while current and current.right:\n",
    "        if current.val == current.right.val:\n",
    "            current.right = current.right.right  \n",
    "        else:\n",
    "            current = current.right  \n",
    "    return head\n",
    "\n",
    "head = NodeList(1, NodeList(1, NodeList(2, NodeList(3, NodeList(3)))))\n",
    "new_head = delete_duplicates(head)\n",
    "\n",
    "current = new_head\n",
    "while current:\n",
    "    print(current.val, end=\" -> \" if current.right else \"\")\n",
    "    current = current.right"
   ],
   "outputs": [
    {
     "name": "stdout",
     "output_type": "stream",
     "text": [
      "1 -> 2 -> 3"
     ]
    }
   ],
   "execution_count": 1
  },
  {
   "cell_type": "markdown",
   "metadata": {},
   "source": [
    "## 问题 2  \n",
    "\n",
    "> 下面是一个经典的算法问题：\n",
    ">\n",
    "> - 给定包含n个整数的一个整数数组 `nums` 和一个整数目标值 `target`，请你在该数组中找出 **和为目标值** *`target`* 的那 **两个** 整数，并返回它们的**数组下标**。假设每种输入只会对应一个答案。但是，数组中同一个元素在答案里不能重复出现。你可以按任意顺序返回答案。\n",
    ">\n",
    "> 由于要多次查找数组中元素的位置，为了提高查询效率可以使用哈希表来存储数组中的数据，在哈希表中查询一个元素的复杂度为O(1)。 已知python中的字典是使用哈希表实现的，即使用`dict[key]`查询对应的value时间复杂度为O(1), python提供了查询字典是否包含某个key的功能：`key in dict`，时间复杂度也是O(1)\n",
    "\n",
    "请根据上面信息，设计一个时间复杂度为O(n) 的算法，解决上述算法问题\n",
    "\n",
    "e.g.   \n",
    "\n",
    "输入：nums=[2,7,11,15], target=9， 输出：[0，1]\n",
    "\n",
    "输入：nums=[3,2,4], target=6, 输出：[1,2]\n",
    "\n",
    "输入：nums=[3,3], target=6,  输出：[0,1]\n"
   ]
  },
  {
   "metadata": {},
   "cell_type": "markdown",
   "source": [
    "idea:\n",
    "\n",
    "算法分析：\n",
    "\n",
    "    通过哈希表（字典）来查找，使用字典存储已经遍历过的元素及其索引。\n",
    "    每次遍历到一个新元素 num 时，可以通过字典快速判断是否存在另一个数字 target - num（即与当前数字配对得到目标和）。如果存在，就返回这两个数字的索引。\n",
    "\n",
    "    步骤：\n",
    "        初始化一个空字典 dict。\n",
    "        遍历数组 nums，对于每个元素 num，计算 target - num。\n",
    "        检查 dict 中是否已经有 target - num 这个值。如果存在，说明找到了答案，返回当前索引和 dict 中存储的索引。\n",
    "        如果 dict 中没有该值，将当前元素 num 和它的索引存入字典。\n",
    "        遍历完成后就能找到符合条件的两数之和。\n",
    "\n",
    "时间复杂度分析：\n",
    "\n",
    "    时间复杂度：算法遍历了数组一次，每次操作（查询和更新字典）都是 O(1)，因此时间复杂度是 O(n)，其中 n 是数组的长度。\n"
   ]
  },
  {
   "cell_type": "code",
   "metadata": {
    "ExecuteTime": {
     "end_time": "2025-05-12T07:33:43.682862Z",
     "start_time": "2025-05-12T07:33:43.674393Z"
    }
   },
   "source": [
    "def two_sum(nums, target):\n",
    "    num_dict = {}\n",
    "\n",
    "    for i, num in enumerate(nums):\n",
    "        complement = target - num\n",
    "        if complement in num_dict:\n",
    "            return [num_dict[complement], i]\n",
    "        num_dict[num] = i\n",
    "    return []\n",
    "\n",
    "def test_case(nums, target):\n",
    "    result = two_sum(nums, target)\n",
    "    print(f\"数组: {nums}, 目标值: {target}    两数索引: {result}\")\n",
    "\n",
    "test_case([2, 7, 11, 15], 9)\n",
    "test_case([3, 2, 4], 6)\n",
    "test_case([3, 3], 6)"
   ],
   "outputs": [
    {
     "name": "stdout",
     "output_type": "stream",
     "text": [
      "数组: [2, 7, 11, 15], 目标值: 9    两数索引: [0, 1]\n",
      "数组: [3, 2, 4], 目标值: 6    两数索引: [1, 2]\n",
      "数组: [3, 3], 目标值: 6    两数索引: [0, 1]\n"
     ]
    }
   ],
   "execution_count": 1
  },
  {
   "cell_type": "markdown",
   "metadata": {},
   "source": [
    "## 问题 3:   \n",
    "\n",
    "> 栈是一种常用的数据结构，编译器中通常使用栈来实现表达式求值。\n",
    ">\n",
    "> 以表达式 $3+5 \\times 8-6$​ 为例。编译器使用两个栈来完成运算，即一个栈保持操作数，另一个栈保存运算符。\n",
    ">\n",
    "> 1. 从左向右遍历表达式，遇到数字就压入操作数栈；\n",
    ">\n",
    "> 2. 遇到运算符，就与运算符栈的栈顶元素进行比较。如果比运算符栈顶元素的优先级高，就将当前运算符压入栈；如果比运算符栈顶元素的优先级低或者相同，从运算符栈中取栈顶运算符，从操作数栈的栈顶取 2 个操作数，然后进行计算，再把计算完的结果压入操作数栈，继续比较。\n",
    ">\n",
    "> 下图是 $3+5 \\times 8-6$  这个表达式的计算过程：\n",
    "\n",
    "![figure](./fig/hw2q3.png)\n",
    "\n",
    "根据上述原理，请设计一个算法完成表达式的运算，当输入为表达式字符串，返回对应的计算结果。分析算法设计思路，计算时间复杂度，并基于python编程实现\n",
    "\n",
    "**note：**\n",
    "\n",
    "1. 假设输入的表达式只会出现加（“+”），减 “-”， 乘“*”，除 “/” 四个运算符, 表达式中只会出现正整数\n",
    "2. python中` str.isdigit()`函数可以判断字符串str是否为数字，\n",
    "\n",
    "\n",
    "\n",
    "e.g. :\n",
    "---\n",
    "\n",
    "1. 输入：“$3+5 * 8 -6$”   输出：37\n",
    "\n",
    "2. 输入：“$34+13*9 + 44-12/3$”  输出：191"
   ]
  },
  {
   "cell_type": "markdown",
   "metadata": {},
   "source": [
    "idea：\n",
    "\n",
    "算法分析：\n",
    "\n",
    "    遍历表达式：从左到右扫描整个字符串，遇到数字就累积成完整的数字，遇到运算符则根据之前的运算符执行对应操作。\n",
    "    合理处理运算符优先级\n",
    "        加号（+）和减号（-）属于低优先级运算，可以暂时搁置，累加到最后统一计算。\n",
    "        乘号（*）和除号（/）是高优先级的，必须马上执行，不能延后。\n",
    "    因此，设计时要特别注意，在遇到乘除时，应该立即与前一个数字结合计算。\n",
    "        栈用来存放处理过的数字：\n",
    "        遇到加号，就把当前数字正向压入栈中；\n",
    "        遇到减号，就把当前数字取负后压入栈中；\n",
    "        遇到乘号或除号，就把栈顶元素取出，与当前数字进行运算后，再压入栈。\n",
    "    最后栈中所有元素求和，就得到最终结果。\n",
    "\n",
    "    \n",
    "时间复杂度分析:\n",
    "\n",
    "    遍历时间：整个字符串只遍历一遍，每个字符只处理一次，因此遍历的时间复杂度是 O(n)，n 是表达式的长度。\n",
    "    栈操作时间：每次遇到数字或者运算符，都可能有一次压栈或者弹栈操作。压栈弹栈的操作本身是 O(1) 的，所以总共也是 O(n) 的级别。\n",
    "    算法的时间复杂度是 O(n)。"
   ]
  },
  {
   "cell_type": "code",
   "metadata": {
    "ExecuteTime": {
     "end_time": "2025-05-12T07:35:57.090485Z",
     "start_time": "2025-05-12T07:35:57.084667Z"
    }
   },
   "source": [
    "def calculate(expression: str) -> int:\n",
    "    expression = expression.replace(' ', '')\n",
    "    stack = []  \n",
    "    num = 0  \n",
    "    sign = '+'  \n",
    "    n = len(expression)\n",
    "\n",
    "    def apply_operator(stack, sign, num):\n",
    "        if sign == '+':\n",
    "            stack.append(num)\n",
    "        elif sign == '-':\n",
    "            stack.append(-num)\n",
    "        elif sign == '*':\n",
    "            stack[-1] = stack[-1] * num\n",
    "        elif sign == '/':\n",
    "            stack[-1] = int(stack[-1] / num)  \n",
    "    i = 0\n",
    "    while i < n:\n",
    "        char = expression[i]\n",
    "        if char.isdigit():\n",
    "            num = num * 10 + int(char)  \n",
    "        if char in '+-*/' or i == n - 1:\n",
    "            apply_operator(stack, sign, num)\n",
    "            num = 0  \n",
    "            sign = char  \n",
    "        i += 1\n",
    "    return sum(stack)  \n",
    "\n",
    "# 测试用例\n",
    "if __name__ == \"__main__\":\n",
    "    expr1 = \"3+5*8-6\"\n",
    "    expr2 = \"34+13*9+44-12/3\"\n",
    "\n",
    "    print(f\"表达式: {expr1} -----> 计算结果: {calculate(expr1)}\")\n",
    "    print(f\"表达式: {expr2} -----> 计算结果: {calculate(expr2)}\")"
   ],
   "outputs": [
    {
     "name": "stdout",
     "output_type": "stream",
     "text": [
      "表达式: 3+5*8-6 -----> 计算结果: 37\n",
      "表达式: 34+13*9+44-12/3 -----> 计算结果: 191\n"
     ]
    }
   ],
   "execution_count": 2
  },
  {
   "cell_type": "markdown",
   "metadata": {},
   "source": [
    "## 问题 4:  \n",
    "\n",
    "> 星球碰撞问题：现有n个星球，在同一条直线上运行，如数组A所示，元素的绝对值表示星球的质量，负数表示星球自右向左运动，正数表示星球自左向右运动，当两个星球相撞的时候，质量小的会消失，大的保持不变，**质量相同的两个星球碰撞后自右向左运动的星球消失，自左向右的星球保持不变**，假设所有星球的速度大小相同。\n",
    ">\n",
    "> $ A=[23,-8, 9, -3, -7, 9, -23, 22] $\n",
    "\n",
    "请设计一个算法模拟星球的运行情况，输出最终的星球存续情况（输出一个数组），分析算法设计思路，计算时间复杂度，并基于python编程实现。\n",
    "\n",
    "e.g.\n",
    "---\n",
    "1.  输入： A=[-3,-6,2,8, 5,-8,9,-2,1]， 输出：[-3, -6, 2, 8, 9, 1]\n",
    "\n",
    "2. 输入：A=[23,-8, 9, -3, -7, 9, -23, 22], 输出：[23, 22]\n",
    "\n"
   ]
  },
  {
   "metadata": {},
   "cell_type": "markdown",
   "source": [
    "算法分析：\n",
    "  \n",
    "    使用一个栈结构来逐个处理星球，思路如下：\n",
    "    初始化一个空栈 stack。\n",
    "    遍历数组 A 中的每个星球 x：\n",
    "        如果栈为空，或者栈顶元素和当前元素方向一致（同为正、同为负），或者栈顶是负方向（向左），当前元素是正方向（向右），直接入栈。\n",
    "        如果栈顶是正方向，当前元素是负方向（即两者相向运动），产生碰撞：\n",
    "            比较两个星球的质量（即绝对值大小）：\n",
    "                当前星球质量大：栈顶元素出栈，当前星球继续与新的栈顶比较。\n",
    "                栈顶元素质量大：当前星球直接被消灭，不入栈。\n",
    "                两者质量相同：栈顶元素出栈，当前元素也消失（即什么都不做），结束当前循环。\n",
    "    遍历完成后，栈中的星球就是最终存活下来的星球。\n",
    "\n",
    "\n",
    "时间复杂度分析：\n",
    "        \n",
    "    每个星球在遍历过程中，至多会执行一次入栈操作。因为星球一旦进入栈中，不会再次入栈。\n",
    "    每个星球也至多会导致一次出栈操作（被撞击消灭）。一旦出栈，该星球不再参与后续的碰撞处理。\n",
    "    假设数组长度为 n：遍历数组需要 O(n) 时间。\n",
    "        入栈操作最多执行 n 次。\n",
    "        出栈操作最多执行 n 次。\n",
    "    所以，所有操作的总时间复杂度为：O(n)"
   ]
  },
  {
   "metadata": {
    "ExecuteTime": {
     "end_time": "2025-05-13T01:22:40.877474Z",
     "start_time": "2025-05-13T01:22:40.872570Z"
    }
   },
   "cell_type": "code",
   "source": [
    "def planet_collision(A):\n",
    "    stack = []\n",
    "    for planet in A:\n",
    "        while stack and stack[-1] > 0 and planet < 0:\n",
    "            top = stack[-1]\n",
    "            if abs(top) < abs(planet):\n",
    "                stack.pop()\n",
    "                continue\n",
    "            break\n",
    "        else:\n",
    "            stack.append(planet)\n",
    "    return stack\n",
    "\n",
    "# Test cases\n",
    "A1 = [-3, -6, 2, 8, 5, -8, 9, -2, 1]\n",
    "A2 = [23, -8, 9, -3, -7, 9, -23, 22]\n",
    "\n",
    "print(\"输入 A1 =\", A1, \"输出 =\", planet_collision(A1))\n",
    "print(\"输入 A2 =\", A2, \"输出 =\", planet_collision(A2))"
   ],
   "outputs": [
    {
     "name": "stdout",
     "output_type": "stream",
     "text": [
      "输入 A1 = [-3, -6, 2, 8, 5, -8, 9, -2, 1] 输出 = [-3, -6, 2, 8, 9, 1]\n",
      "输入 A2 = [23, -8, 9, -3, -7, 9, -23, 22] 输出 = [23, 22]\n"
     ]
    }
   ],
   "execution_count": 3
  },
  {
   "cell_type": "markdown",
   "metadata": {},
   "source": [
    "## 问题 5 \n",
    "\n",
    "> 给定一个无序数组nums=[9,-3,-10,0,9,7,33]，请建立一个二叉搜索树存储数组中的所有元素，之后删除二叉树中的元素“0”，再使用中序遍历输出二叉搜索树中的所有元素。\n",
    "\n",
    "使用python编程完成上述任务，并计算时间复杂度\n"
   ]
  },
  {
   "metadata": {},
   "cell_type": "markdown",
   "source": [
    "idea:\n",
    "\n",
    "算法分析：\n",
    "        \n",
    "    构建二叉搜索树：\n",
    "        对于数组中的每一个元素，插入到二叉搜索树中。\n",
    "        二叉搜索树的特点是：对于每个节点，左子树的值小于节点值，右子树的值大于节点值。\n",
    "        插入操作的时间复杂度为 O(logn)，如果树的高度为 O(logn)，而最坏情况下，当树变成链表时，时间复杂度为 O(n)。\n",
    "    中序遍历输出树中的元素：\n",
    "        对二叉搜索树进行中序遍历，会得到一个升序排列的元素列表。\n",
    "        中序遍历的时间复杂度为 O(n)，要访问树中每一个节点。\n",
    "    删除所有零元素：\n",
    "        删除节点操作通常是 O(logn)，如果树是平衡的。如果不平衡，最坏情况为 O(n)，因为树的高度可能会达到 n。\n",
    "\n",
    "时间复杂度分析：\n",
    "\n",
    "    构建二叉搜索树：\n",
    "        对每个元素执行插入操作，平均时间复杂度是 O(logn)，最坏情况下是 O(n)。\n",
    "    中序遍历输出树中的元素：\n",
    "        无论树的形状如何，中序遍历的时间复杂度始终是 O(n)，因为每个节点都需要被访问一次。\n",
    "    删除所有零元素：\n",
    "        删除操作的复杂度依赖于树的结构。最坏情况下是 O(n)，当树退化成链表时。\n",
    "    综合来看，整体时间复杂度是 O(n)，其中 n 是数组的长度。"
   ]
  },
  {
   "cell_type": "code",
   "metadata": {
    "ExecuteTime": {
     "end_time": "2025-05-12T07:40:04.988432Z",
     "start_time": "2025-05-12T07:40:04.982434Z"
    }
   },
   "source": [
    "class TreeNode:\n",
    "    def __init__(self, val):\n",
    "        self.val = val\n",
    "        self.left = None\n",
    "        self.right = None\n",
    "\n",
    "def insert(root, val):\n",
    "    if not root:\n",
    "        return TreeNode(val)\n",
    "    if val < root.val:\n",
    "        root.left = insert(root.left, val)\n",
    "    else:\n",
    "        root.right = insert(root.right, val)\n",
    "    return root\n",
    "\n",
    "def inorder(root):\n",
    "    if not root:\n",
    "        return []\n",
    "    return inorder(root.left) + [root.val] + inorder(root.right)\n",
    "\n",
    "def delete_zero(root):\n",
    "    if not root:\n",
    "        return None\n",
    "    root.left = delete_zero(root.left)\n",
    "    root.right = delete_zero(root.right)\n",
    "    if root.val == 0:\n",
    "        return root.right if not root.left else root.left if not root.right else merge(root.left, root.right)\n",
    "    return root\n",
    "\n",
    "def merge(left, right):\n",
    "    if not left:\n",
    "        return right\n",
    "    node = left\n",
    "    while node.right:\n",
    "        node = node.right\n",
    "    node.right = right\n",
    "    return left\n",
    "\n",
    "nums = [9, -3, -10, 0, 9, 7, 33]\n",
    "root = None\n",
    "for num in nums:\n",
    "    root = insert(root, num)\n",
    "\n",
    "print(\"中序遍历：\", inorder(root))\n",
    "root = delete_zero(root)\n",
    "print(\"删除0元素后：\", inorder(root))"
   ],
   "outputs": [
    {
     "name": "stdout",
     "output_type": "stream",
     "text": [
      "中序遍历： [-10, -3, 0, 7, 9, 9, 33]\n",
      "删除0元素后： [-10, -3, 7, 9, 9, 33]\n"
     ]
    }
   ],
   "execution_count": 6
  },
  {
   "cell_type": "markdown",
   "metadata": {},
   "source": [
    "## 问题 6  \n",
    "\n",
    "> 给定一个包含大写字母和小写字母的字符串 s ，返回 字符串包含的 **最长的回文子串的长度** 。请注意 区分大小写 。比如 \"Aa\" 不能当做一个回文字符串。\n",
    ">\n",
    "\n",
    "请设计一个算法解决上述问题，只需要输出最长回文子串的长度，分析算法设计思路，计算时间复杂度，并基于python编程实现\n",
    "\n",
    "e.g. 输入： s=\"adccaccd\"，  输出：7。 最长回文子串为：\"dccaccd\", 长度为7\n"
   ]
  },
  {
   "cell_type": "markdown",
   "metadata": {},
   "source": [
    "idea：\n",
    "\n",
    "算法分析：\n",
    "        \n",
    "    把单个字符和相邻且相同的两个字符都当作回文标记好；\n",
    "    然后按照子串长度从小到大的顺序，依次判断每一段更长的子串，\n",
    "    如果它的首尾字符相同，并且去掉首尾之后的那一段中已经被标记为回文，就可以把这整个子串也标记为回文。\n",
    "    在这个过程中，每当发现一个新的回文子串，就更新一下记录的最大长度。\n",
    "\n",
    "时间复杂度：\n",
    "\n",
    "    需要遍历每一对 (i, j)，其中 i 为左端点，j 为右端点。\n",
    "    由于有两层嵌套的循环：外层循环遍历所有子串的长度 3 到 n，内层循环遍历每个可能的子串的起始位置 i\n",
    "    所以总的时间复杂度是 O(n²)。"
   ]
  },
  {
   "cell_type": "code",
   "metadata": {
    "ExecuteTime": {
     "end_time": "2025-05-12T07:41:14.864710Z",
     "start_time": "2025-05-12T07:41:14.859590Z"
    }
   },
   "source": [
    "def longest_palindrome_substring(s: str) -> str:\n",
    "    n = len(s)\n",
    "    if n < 2:\n",
    "        return s\n",
    "    dp = [[False] * n for _ in range(n)]\n",
    "    start, max_len = 0, 1\n",
    "    for i in range(n):\n",
    "        dp[i][i] = True\n",
    "    for i in range(n - 1):\n",
    "        if s[i] == s[i + 1]:\n",
    "            dp[i][i + 1] = True\n",
    "            start, max_len = i, 2\n",
    "    for length in range(3, n + 1):\n",
    "        for i in range(n - length + 1):\n",
    "            j = i + length - 1\n",
    "            if s[i] == s[j] and dp[i + 1][j - 1]:\n",
    "                dp[i][j] = True\n",
    "                start, max_len = i, length\n",
    "    return s[start:start + max_len]\n",
    "\n",
    "if __name__ == \"__main__\":\n",
    "    s = \"adccaccd\"\n",
    "    palindrome = longest_palindrome_substring(s)\n",
    "    print(f\"输入:  {s}\")\n",
    "    print(f\"输出:  {palindrome}\")\n",
    "    print(f\"长度:  {len(palindrome)}\")"
   ],
   "outputs": [
    {
     "name": "stdout",
     "output_type": "stream",
     "text": [
      "输入:  adccaccd\n",
      "输出:  dccaccd\n",
      "长度:  7\n"
     ]
    }
   ],
   "execution_count": 7
  },
  {
   "cell_type": "markdown",
   "metadata": {},
   "source": [
    "## 问题 7 \n",
    "\n",
    "> 沿一条长河流分散着n座房子。你可以把这条河想象成一条轴，房子是由它们在这条轴上的坐标按顺序排列的。你的公司想在河边的特定地点设置手机基站，这样每户人家都在距离基站4公里的范围内。输入可以看作为一个升序数组，数组元素的取值为大于等于0的正整数，你需要输出最小基站的数目，基站的位置。\n",
    "\n",
    "1. 给出一个时间复杂度为$O(n$) 的算法，使所使用的基站数量最小化，分析算法设计思路，使用python编程实现\n",
    "2. 证明1.中算法产生了最优解决方案。\n",
    "\n",
    "e.g. \n",
    "\n",
    "输入： [1, 5, 12, 33, 34,35]  输出：基站数目为3， 基站位置为[1，12，33]\n",
    "\n"
   ]
  },
  {
   "cell_type": "markdown",
   "metadata": {},
   "source": [
    "idea：\n",
    "\n",
    "问题一：\n",
    "\n",
    "算法设计思路：\n",
    "        \n",
    "    采用贪心算法，每次选择当前未覆盖的最左房屋作为基站放置的位置。这样能够在最左边开始覆盖，确保每次放置的基站覆盖最多的房屋。\n",
    "    放置一个基站后，该基站可以覆盖到该位置右边最多4公里的房屋。对于每一个房屋，需要判断它是否被已有基站覆盖，如果没有，则放置一个新基站。\n",
    "    跳过已经覆盖的房屋：每次放置一个基站后，跳过所有可以被该基站覆盖的房屋，直到找到下一个未覆盖的房屋。\n",
    "\n",
    "问题二：\n",
    "\n",
    "    假设存在一个最优解，并且它使用了k个基站。这些基站的位置分别为t1,t2,…,tk。目标是证明，贪心算法生成的基站数目不超过k个\n",
    "    在贪心算法中，首先选择最左侧的未覆盖的房屋，假设为x1。根据贪心策略，会把第一个基站放在x1位置。\n",
    "    在最优解中，第一个基站t1必须覆盖x1，即t1≤x1并且t1+4≥x1。因此，贪心算法选择将第一个基站放置在x1处，而最优解中的t1可以移到x1处。这个操作不会影响覆盖效果，因为它仍然覆盖了与最优解相同的房屋。\n",
    "    由于贪心算法始终选择最左房屋，所以它始终能覆盖从当前房屋起始到x1+4范围内的所有房屋。这意味着贪心算法的第一个基站和最优解的第一个基站覆盖相同的房屋。\n",
    "    在贪心算法中，放置第一个基站后，会跳过所有被该基站覆盖的房屋，并选择下一个未覆盖的房屋作为新的基站放置点。\n",
    "    假设接下来最左未覆盖的房屋是x2。最优解中的第二个基站t2必须覆盖x2。\n",
    "    贪心算法会选择将基站放置在x2处，这与最优解中的t2基站位置一致。\n",
    "    由于贪心算法的策略是每次放置基站时尽可能覆盖更多的房屋，它所选择的基站位置和最优解中的基站位置是相同的\n",
    "    \n",
    "    通过上述推理，可以得出结论：任何最优解都可以通过将基站位置调整为贪心算法中的基站位置，而不会增加基站的数量，因此贪心算法是最优的。\n",
    "\n"
   ]
  },
  {
   "cell_type": "code",
   "metadata": {
    "ExecuteTime": {
     "end_time": "2025-05-12T07:42:28.131265Z",
     "start_time": "2025-05-12T07:42:28.127265Z"
    }
   },
   "source": [
    "def place_base_stations_left_first(houses):\n",
    "    n = len(houses)\n",
    "    base_stations = []  \n",
    "    i = 0  \n",
    "    while i < n:\n",
    "        current = houses[i]\n",
    "        station = current\n",
    "        base_stations.append(station)\n",
    "        while i < n and houses[i] <= station + 4:\n",
    "            i += 1\n",
    "    return len(base_stations), base_stations\n",
    "\n",
    "# 测试用例\n",
    "if __name__ == \"__main__\":\n",
    "    houses = [1, 5, 12, 33, 34, 35]\n",
    "    num, positions = place_base_stations_left_first(houses)\n",
    "    print(\"基站数量为:\", num)\n",
    "    print(\"基站位置为:\", positions)"
   ],
   "outputs": [
    {
     "name": "stdout",
     "output_type": "stream",
     "text": [
      "基站数量为: 3\n",
      "基站位置为: [1, 12, 33]\n"
     ]
    }
   ],
   "execution_count": 8
  },
  {
   "cell_type": "markdown",
   "metadata": {},
   "source": [
    "## 问题 8  \n",
    "\n",
    "> 给定由n个正整数组成的一个集合$S = \\{a_1, a_2，···，a_n\\}$和一个正整数W，设计一个算法确定是否存在S的一个子集 $K \\subseteq S$, 使K中所有数之和为 $W$, 如果存在返回“True”，否则返回“False”\n",
    "\n",
    "请设计一个时间复杂度为$O(nW)$动态规划算法，解决上述问题，分析算法的设计思路，并且基于python编程实现（不需要输出子集）。\n",
    "\n",
    "e.g. \n",
    "\n",
    "输入：S = {1,4,7,3,5}， W = 11，输出：True。   因为K可以是{4,7}。\n",
    "\n"
   ]
  },
  {
   "cell_type": "markdown",
   "metadata": {},
   "source": [
    "idea：\n",
    "\n",
    "算法分析：\n",
    "\n",
    "    可以利用一个字典（sums），存储每个子集和对应的具体子集元素。字典的键是子集和，值是组成该和的元素列表。\n",
    "    从集合 S 中逐个元素遍历，每个元素都会产生新的子集和，通过累积这些新的和来生成所有可能的子集和。\n",
    "    算法流程：\n",
    "        初始化：字典 sums 用来存储和为0的子集，即空集。\n",
    "        对每个元素 num：创建一个新字典 new_sums，用于存储新生成的子集和。\n",
    "        对每个已知的子集和 s，计算新和 new_sum = s + num，并将其存储在 new_sums 中。\n",
    "        最后，更新 sums 为 new_sums。\n",
    "    最后检查是否存在子集和等于目标值W，如果有，返回该子集；否则，输出无法找到子集的信息。\n",
    "\n",
    "\n",
    "时间复杂度分析：\n",
    "\n",
    "    遍历时间：需要遍历集合 S 中的每个元素，对于每个元素，需要与当前已有的子集和进行组合。\n",
    "    每个元素最多会生成 O(n) 个新的子集和。因此，遍历整个集合的时间复杂度是 O(n×W)，其中 n 是集合的大小，W 是目标和。\n",
    "    时间复杂度是 O(n×W)"
   ]
  },
  {
   "cell_type": "code",
   "metadata": {
    "ExecuteTime": {
     "end_time": "2025-05-09T10:16:24.634961Z",
     "start_time": "2025-05-09T10:16:24.630326Z"
    }
   },
   "source": [
    "def subset_sum_with_elements(S, W):\n",
    "    print(f\"原始集合 S = {S}\")\n",
    "    print(f\"目标和 W = {W}\")\n",
    "    print(\"-\" * 40)\n",
    "\n",
    "    sums = {0: []}\n",
    "    for num in S:\n",
    "        new_sums = dict(sums)  \n",
    "        for s in sums:\n",
    "            new_sum = s + num\n",
    "            if new_sum <= W and new_sum not in new_sums:\n",
    "                new_sums[new_sum] = sums[s] + [num]\n",
    "        sums = new_sums\n",
    "\n",
    "    if W in sums:\n",
    "        subset = sums[W]\n",
    "        print(f\"可以找到子集，元素为：{subset}\")\n",
    "        print(f\"验证：{' + '.join(map(str, subset))} = {W}\")\n",
    "    else:\n",
    "        print(\"无法找到任何子集使得元素和为目标值。\")\n",
    "\n",
    "if __name__ == \"__main__\":\n",
    "    S = [1, 4, 7, 3, 5]\n",
    "    W = 11\n",
    "    subset_sum_with_elements(S, W)"
   ],
   "outputs": [
    {
     "name": "stdout",
     "output_type": "stream",
     "text": [
      "原始集合 S = [1, 4, 7, 3, 5]\n",
      "目标和 W = 11\n",
      "----------------------------------------\n",
      "可以找到子集，元素为：[4, 7]\n",
      "验证：4 + 7 = 11\n"
     ]
    }
   ],
   "execution_count": 9
  },
  {
   "cell_type": "markdown",
   "metadata": {},
   "source": [
    "\n",
    "\n",
    "## 问题 9 \n",
    "\n",
    "> 给定一个n个物品的集合。物体的重量为$w_1, w_2，…、w_n$，物品的价值分别是$v_1、v_2、…v_n$。给你**两个**重量为 $c$ 的背包。如果你带了一个东西，它可以放在一个背包里，也可以放在另一个背包里，但不能同时放在两个背包里。所有权重和价值都是正整数。\n",
    "\n",
    "1. 设计一个时间复杂度为 $O(nc^2)$ 的动态规划算法，确定可以放入两个背包的物体的最大价值。分析算法设计思路，并基于python编程实现\n",
    "2. \\* 修改1中的算法，输出每个背包的内容（物品对应下标）。\n",
    "\n",
    "e.g.: \n",
    "\n",
    "输入 V=[1,3,2,5,8,7], W=[1,3,2,5,8,7], c=7, 输出：最大价值=14，背包装的物品为：[6] [4，3] （同一个背包中物品装入顺序对结果无影响）  \n"
   ]
  },
  {
   "cell_type": "markdown",
   "metadata": {},
   "source": [
    "idea：\n",
    "\n",
    "算法分析：\n",
    "        \n",
    "    遍历物品集：\n",
    "        从左到右扫描所有物品，对于每个物品，考虑是否将其放入第一个背包或第二个背包。\n",
    "        对于每个背包的容量，判断是否可以放入当前物品，并更新背包的总价值。\n",
    "    处理两背包的状态：\n",
    "        对于每个物品，选择放入第一个背包，或者放入第二个背包，或者不放入任何背包。\n",
    "        如果物品放入第一个背包，并且不超过容量 c，就更新第一个背包的最大价值。\n",
    "        如果物品放入第二个背包，并且不超过容量 c，就更新第二个背包的最大价值。\n",
    "    使用动态规划数组：\n",
    "        使用一个二维数组 dp[i][j]，其中 i 表示物品的数量，j 表示背包的容量。\n",
    "        每个状态表示考虑前 i 个物品，放入第一个背包容量为 j 时的最大价值。\n",
    "        在处理每个物品时，要同时考虑放入第一个背包、第二个背包和不放入背包的情况。\n",
    "    输出最优解：\n",
    "        在动态规划填充完成后，返回两个背包中能放入的物品总价值，并输出每个背包的物品内容。\n",
    "\n",
    "时间复杂度分析：\n",
    "        \n",
    "    遍历物品集：总共有 n 个物品，需要处理每一个物品，因此外层循环是 O(n)。\n",
    "    处理每个物品的放置状态：对于每一个物品，需要在所有可能的第一背包容量 j（从 0 到 c）和第二背包容量 k（从 0 到 c）上尝试更新状态，背包一和背包二的容量范围都是 0～c，总共有 (c+1)×(c+1)->c^2种组合。\n",
    "    总体时间复杂度：外层 n 个物品，内层 c^2个状态。\n",
    "    所以，时间复杂度是 O(n × c²)。"
   ]
  },
  {
   "cell_type": "code",
   "metadata": {
    "ExecuteTime": {
     "end_time": "2025-05-12T07:46:41.107Z",
     "start_time": "2025-05-12T07:46:41.101489Z"
    }
   },
   "source": [
    "def solve_multi_knapsack(V, W, c, bag_count):\n",
    "    n = len(V)\n",
    "    used = [False] * n  \n",
    "    total_value = 0\n",
    "    bags = []\n",
    "    for _ in range(bag_count):\n",
    "        dp = [0] * (c + 1)\n",
    "        path = [[] for _ in range(c + 1)]\n",
    "        for i in range(n):\n",
    "            if not used[i]:  \n",
    "                for j in range(c, W[i] - 1, -1):\n",
    "                    if dp[j - W[i]] + V[i] > dp[j]:\n",
    "                        dp[j] = dp[j - W[i]] + V[i]\n",
    "                        path[j] = path[j - W[i]] + [i]\n",
    "        if dp[c] == 0:  \n",
    "            break\n",
    "        bag = [idx + 1 for idx in path[c]]  \n",
    "        bags.append(bag)\n",
    "        total_value += dp[c]\n",
    "        for idx in path[c]:\n",
    "            used[idx] = True\n",
    "\n",
    "\n",
    "    print(f\"最大价值 = {total_value}\")\n",
    "    print(\"背包装的物品下标为：\")\n",
    "    for bag in bags:\n",
    "        print(f\"[{', '.join(map(str, bag))}]\")\n",
    "\n",
    "V = [1, 3, 2, 5, 8, 7]\n",
    "W = [1, 3, 2, 5, 8, 7]\n",
    "c = 7\n",
    "bag_count = 2\n",
    "solve_multi_knapsack(V, W, c, bag_count)"
   ],
   "outputs": [
    {
     "name": "stdout",
     "output_type": "stream",
     "text": [
      "最大价值 = 14\n",
      "背包装的物品下标为：\n",
      "[3, 4]\n",
      "[6]\n"
     ]
    }
   ],
   "execution_count": 10
  },
  {
   "cell_type": "markdown",
   "metadata": {},
   "source": [
    "## 问题 10 \n",
    "\n",
    "> 给定两个字符串 $x[1..n]$ 和 $y[1..m]$，我们想通过以下操作将 $x$ 变换为 $y$ :\n",
    ">\n",
    "> **插入**：在 $x$ 中插入一个字符(在任何位置)；**删除**：从 $x$ 中删除一个字符(在任何位置)； **替换**：用另一个字符替换 $x$ 中的一个字符。\n",
    ">\n",
    "> 例如: $x = abcd$, $y = bcfe$，\n",
    ">\n",
    "> - 将 $x$ 转换为 $y$ 的一种可能方法是：1. 删除 $x$ 开头的 $a$, $x$变成 $bcd$； 2. 将 $x$ 中的字符 $d$ 替换为字符 $f$。$x$ 变成 $bcf$； 3. 在 $x$ 的末尾插入字符 $e$。$x$ 变成 $bcfe$。\n",
    ">\n",
    "> - 另一种可能的方法：1. 删除 $x$ 开头的 $a$,  $x$ 变成 $bcd$； 2. 在 $x$ 中字符 $d$ 之前插入字符 $f$。$x$ 变成 $bcfd$。3. 将 $x$ 中的字符 $d$ 替换为字符 $e$。$x$ 变成 $bcfe$。\n",
    "\n",
    "设计一个时间复杂度为 $O(mn)$ 的算法，返回将 $x$ 转换为 $y$ 所需的最少操作次数。分析算法设计思路，并基于python编程实现。\n"
   ]
  },
  {
   "cell_type": "markdown",
   "metadata": {},
   "source": [
    "idea：\n",
    "\n",
    "算法分析：\n",
    "        \n",
    "    遍历两个字符串:从左到右遍历字符串 x 和 y，逐一比较它们的字符：\n",
    "        如果 x[i] == y[j]，说明这两个字符已经相同，不需要做任何操作，直接继续。\n",
    "        如果 x[i] != y[j]，说明这两个字符不同，需要选择一个操作来将它们变得相同。可以选择插入、删除或替换。这里的关键是选择最小的操作次数。\n",
    "    选择合适的操作:\n",
    "        插入操作：选择将 y[j] 插入到 x 中，增加一个操作。\n",
    "        删除操作：选择删除 x[i]，增加一个操作。\n",
    "        替换操作：选择将 x[i] 替换为 y[j]，增加一个操作。\n",
    "        对于每一对字符 x[i] 和 y[j]，计算每种操作的结果，并选择操作次数最少的。\n",
    "    动态规划思路:在动态规划中，通过一个二维数组 dp[i][j] 来存储从 x 的前 i 个字符到 y 的前 j 个字符所需的最少操作次数。\n",
    "                通过填充这个数组，最终得到 dp[n][m]，它就是最终的最少操作次数，其中 n 和 m 分别是 x 和 y 的长度。\n",
    "    最终，dp[n][m] 给出的就是将字符串 x 转换为 y 所需的最少操作次数\n",
    "\n",
    "时间复杂度分析：\n",
    "        \n",
    "    外层循环遍历 x 的每个字符，内层循环遍历 y 的每个字符\n",
    "    总状态数是 n * m\n",
    "    因此，总时间复杂度是 O(nm)"
   ]
  },
  {
   "cell_type": "code",
   "metadata": {
    "ExecuteTime": {
     "end_time": "2025-05-12T07:44:15.283207Z",
     "start_time": "2025-05-12T07:44:15.277204Z"
    }
   },
   "source": [
    "def min_edit_distance(x, y):\n",
    "    n = len(x)\n",
    "    m = len(y)\n",
    "    dp = [[0] * (m + 1) for _ in range(n + 1)]\n",
    "    for i in range(n + 1):\n",
    "        dp[i][0] = i  \n",
    "    for j in range(m + 1):\n",
    "        dp[0][j] = j  \n",
    "    for i in range(1, n + 1):\n",
    "        for j in range(1, m + 1):\n",
    "            if x[i - 1] == y[j - 1]:  \n",
    "                dp[i][j] = dp[i - 1][j - 1]\n",
    "            else:\n",
    "                insert = dp[i][j - 1] + 1\n",
    "                delete = dp[i - 1][j] + 1\n",
    "                replace = dp[i - 1][j - 1] + 1\n",
    "                dp[i][j] = min(insert, delete, replace)\n",
    "\n",
    "    return dp[n][m]\n",
    "\n",
    "# 测试用例\n",
    "x = \"abcd\"\n",
    "y = \"bcfe\"\n",
    "print(\"最少操作次数为：\", min_edit_distance(x, y))"
   ],
   "outputs": [
    {
     "name": "stdout",
     "output_type": "stream",
     "text": [
      "最少操作次数为： 3\n"
     ]
    }
   ],
   "execution_count": 9
  }
 ],
 "metadata": {
  "language_info": {
   "name": "python"
  },
  "kernelspec": {
   "name": "python3",
   "language": "python",
   "display_name": "Python 3 (ipykernel)"
  }
 },
 "nbformat": 4,
 "nbformat_minor": 2
}
