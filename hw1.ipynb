{
 "cells": [
  {
   "cell_type": "markdown",
   "metadata": {},
   "source": [
    "## algorithm design and anlysis-2025 spring  homework 1 \n",
    "**Deadline**：2025.5.14\n",
    "\n",
    "**name**: Lin Zhong Jun\n",
    "\n",
    "\n",
    "note：\n",
    "---\n",
    "1. 带有\\*的题目，申请免上课的同学，必须完成，其他同学选作；\n",
    "2. 请独立完成，如求助了他人或者大模型，请著明，并且不可省略算法分析部分；\n",
    "4. 如若作答有雷同，全部取消成绩；\n",
    "3. 需要书面作答的题目，可以通过引用图片的形式添加，但是注意上传项目时包含所引用的图片的源文件；\n",
    "4. $log_n$ 默认表示$log_2{n}$;"
   ]
  },
  {
   "cell_type": "markdown",
   "metadata": {},
   "source": [
    "## 问题 1\n",
    "\n",
    "对于下面的每一对表达式(A, B), A是否能表示为B的 $\\Theta, \\Omega ,O$形式. 请注意, 这些关系中的零个、一个或多个可能成立。列出所有正确的。经常发生一些学生会,把指示写错, 所以请把关系写完整, 例如: $A = O(B),  A =\\Theta(B)$, 或$A = \\Omega(B)$。\n",
    "\n",
    "1. $A=n^2-100n, B=n^2$\n",
    "2. $A=logn, B=log_{1.2}n$\n",
    "3. $A=3^{2n}, B=2^{4n}$\n",
    "4. $A=2^{logn}, B=n$\n",
    "5. $A=\\log{\\log}{n},B=10^{10^{100}}$"
   ]
  },
  {
   "cell_type": "markdown",
   "metadata": {},
   "source": [
    "answer：\n",
    "<div style=\"text-align:left;\">\n",
    "  <img alt=\"\" src=\"./handwritten_picture/homework1_question1.png\" style=\"width:100%; height:auto;\">\n",
    "</div>"
   ]
  },
  {
   "cell_type": "markdown",
   "metadata": {},
   "source": [
    "## 问题 2：\n",
    "\n",
    "假设有函数 $f$ 和 $g$ 使得 $f(n)$ = $O(g(n))$ 对于下面的每一个陈述, 请判断对错, 如果正确请给出证明, 否则请给出一个反例。\n",
    "\n",
    "1. $\\log{f(n)}$ = $O(\\log(1+g(n)))$\n",
    "2. $3^{f(n)}=O(3^{g(n)})$\n",
    "3. $(f(n))^2=O((g(n))^2)$ "
   ]
  },
  {
   "cell_type": "markdown",
   "metadata": {},
   "source": [
    "answer：\n",
    "<div style=\"text-align:left;\">\n",
    "  <img alt=\"\" src=\"./handwritten_picture/homework1_question2.png\" style=\"width:100%; height:auto;\">\n",
    "</div>"
   ]
  },
  {
   "cell_type": "markdown",
   "metadata": {},
   "source": [
    "## 问题 3\n",
    "\n",
    "根据下列递归公式, 计算下列 $T(n)$ 对应的的渐近上界。要求所求的边界尽可能的紧（tight）, 请写明步骤。\n",
    "\n",
    "1. $T(1)=1; T(n)=T(n/4)+1$ for $n>1$\n",
    "2. $T(1)=1;T(n)=3T(n/3)+n^2$ for $n>1$\n",
    "3. $T(1)=1;T(n)=T(2n/3)+1$ for $n>1$\n",
    "4. $T(1)=1;T(n)=5T(n/4)+n$ for $n>1$\n",
    "5. $T(n)=1 \\ for\\ n \\le 2 ; T(n)=T(\\sqrt{n})+1 \\ for \\ n>2$"
   ]
  },
  {
   "cell_type": "markdown",
   "metadata": {},
   "source": [
    "answer：\n",
    "<div style=\"text-align:left;\">\n",
    "  <img alt=\"\" src=\"./handwritten_picture/homework1_question3.png\" style=\"width:100%; height:auto;\">\n",
    "</div>"
   ]
  },
  {
   "cell_type": "markdown",
   "metadata": {},
   "source": [
    "## 问题 4：\n",
    "\n",
    "给定一个包含n个元素的数组 `profits` , 它的第 `i` 个元素 `profits[i]` 表示一支股票第 `i` 天的**收益**（正数表示涨, 负数表示跌）。你只能选择 **某一天** 买入这只股票, 并选择在 **未来的某一个不同的日子** 卖出该股票。\n",
    "\n",
    "1. 设计一个算法来计算你所能获取的最大利润和对应买入和卖出的日期。请分析算法方案, 计算其时间复杂度, 并且使用python编程实现该算法。\n",
    "\n",
    "2. \\* 设计一个时间复杂度为 $O(n)$的算法实现该算法\n",
    "\n",
    "e.g. :\n",
    "---\n",
    "profits=[3,2,1,-7,5,2,-1,3,-1], 第5天买入, 第8天卖出, 收益最大：9\n",
    "\n"
   ]
  },
  {
   "cell_type": "markdown",
   "metadata": {},
   "source": [
    "idea:\n",
    "\n",
    "第一小问：最大利润及买卖天数（O(n^2) 时间复杂度）\n",
    "        \n",
    "    \n",
    "    算法分析：列出所有买入和卖出的组合，计算从买入天到卖出天的收益和（包含买入天收益），找出最大值\n",
    "               采用两层循环遍历，外层循环选买入天，内层循环遍历后续卖出天，累加 profits[i]，更新最大利润和买卖天数\n",
    "    时间复杂度 ：O(n^2)，双层循环遍历（外层 O(n)，内层 O(n)）\n",
    "\n",
    "第二小问：最大利润及买卖天数（O(n) 时间复杂度）\n",
    "        \n",
    "    算法分析：要找到从买入天到卖出天的最大收益和（包含买入天收益），用一次遍历，维护当前累积收益（从某买入天开始）和最大收益，记录买卖天数\n",
    "    时间复杂度 ：O(n)，单次遍历"
   ]
  },
  {
   "cell_type": "code",
   "metadata": {
    "ExecuteTime": {
     "end_time": "2025-05-13T01:12:12.397037Z",
     "start_time": "2025-05-13T01:12:12.392133Z"
    }
   },
   "source": [
    "# 第一小问代码\n",
    "def max_profit_brute(profits):\n",
    "    max_profit = 0\n",
    "    buy = 0\n",
    "    sell = 0\n",
    "\n",
    "    for i in range(len(profits)):\n",
    "        curr_sum = 0\n",
    "        for j in range(i, len(profits)):\n",
    "            curr_sum += profits[j]\n",
    "            if curr_sum > max_profit:\n",
    "                max_profit = curr_sum\n",
    "                buy = i\n",
    "                sell = j\n",
    "\n",
    "    return max_profit, buy + 1, sell + 1\n",
    "\n",
    "profits = [3, 2, 1, -7, 5, 2, -1, 3, -1]\n",
    "profit, buy, sell = max_profit_brute(profits)\n",
    "print(f\"第一小问最大利润及买卖天数（O(n^2) 时间复杂度）     最大利润: {profit}, 买入天: {buy}, 卖出天: {sell}\")"
   ],
   "outputs": [
    {
     "name": "stdout",
     "output_type": "stream",
     "text": [
      "第一小问最大利润及买卖天数（O(n^2) 时间复杂度）     最大利润: 9, 买入天: 5, 卖出天: 8\n"
     ]
    }
   ],
   "execution_count": 3
  },
  {
   "cell_type": "code",
   "metadata": {
    "scrolled": true,
    "ExecuteTime": {
     "end_time": "2025-05-13T01:12:12.445176Z",
     "start_time": "2025-05-13T01:12:12.440045Z"
    }
   },
   "source": [
    "# 第二小问代码\n",
    "def max_profit_days(profits):\n",
    "    max_profit = 0\n",
    "    buy = 0\n",
    "    sell = 0\n",
    "    curr_sum = 0\n",
    "    curr_buy = 0\n",
    "\n",
    "    for i in range(len(profits)):\n",
    "        curr_sum += profits[i]\n",
    "        if curr_sum > max_profit:\n",
    "            max_profit = curr_sum\n",
    "            buy = curr_buy\n",
    "            sell = i\n",
    "        if curr_sum < 0:\n",
    "            curr_sum = 0\n",
    "            curr_buy = i + 1\n",
    "\n",
    "    return max_profit, buy + 1, sell + 1\n",
    "\n",
    "\n",
    "profits = [3, 2, 1, -7, 5, 2, -1, 3, -1]\n",
    "profit, buy, sell = max_profit_days(profits)\n",
    "print(f\"第二小问最大利润及买卖天数（O(n) 时间复杂度）       最大利润: {profit}, 买入天: {buy}, 卖出天: {sell}\")"
   ],
   "outputs": [
    {
     "name": "stdout",
     "output_type": "stream",
     "text": [
      "第二小问最大利润及买卖天数（O(n) 时间复杂度）       最大利润: 9, 买入天: 5, 卖出天: 8\n"
     ]
    }
   ],
   "execution_count": 4
  },
  {
   "cell_type": "markdown",
   "metadata": {},
   "source": [
    "## 问题 5：\n",
    "\n",
    "观察下方的分治算法（divide-and-conquer algorithm）的伪代码, 回答下面问题\n",
    "\n",
    "```latex\n",
    "DoSomething(A,p,r)\n",
    "-----\n",
    "n := r-p+1\n",
    "if n=2 and A[p]>A[r] then\n",
    "    swap A[p] and A[r]\n",
    "else if n >= 3 then\n",
    "    m = ceil(2n/3)\n",
    "    DoSomething(A,p,p+m-1)\n",
    "    DoSomething(A,r-m+1,r)\n",
    "    DoSomething(A,p,p+m-1)  \n",
    "    \n",
    "---\n",
    "first call: DoSomething(A,1,n)\n",
    "```\n",
    "\n",
    "note：$ceil(2n/3)=\\left\\lceil {2n/3} \\right\\rceil$；$:=$ 表示赋值, 等价于 $\\to$；A是一个包含n的整数元素的数组, \n",
    "\n",
    "1. 写出该算法时间复杂度的递归公式, 并求解其对应的渐进表示\n",
    "2. 描述一下该算法的功能, 并判断是否是最高效的解决方案\n",
    "3. 使用python编程实现上述算法或其对应的更高效版本的算法\n"
   ]
  },
  {
   "cell_type": "markdown",
   "metadata": {},
   "source": [
    "1.写出该算法时间复杂度的递归公式, 并求解其对应的渐进表示\n",
    "<div style=\"text-align:left;\">\n",
    "  <img alt=\"\" src=\"./handwritten_picture/homework1_question5_1.jpg\" style=\"width:100%; height:auto;\">\n",
    "</div>\n"
   ]
  },
  {
   "cell_type": "markdown",
   "metadata": {},
   "source": [
    "2.描述一下该算法的功能, 并判断是否是最高效的解决方案\n",
    "    \n",
    "    该递归算法（ DoSomething）对数组区间进行分治式处理，其核心思路是：\n",
    "    (1) 分割子问题\n",
    "        计算当前区间长度 n=r−p+1。\n",
    "        若 n=2，仅比较 A[p] 与 A[r]，必要时交换，使这两个元素有序。\n",
    "        若 n≥3，将区间拆成“前 2/3”和“后 1/3”两部分（向上取整），依次递归：\n",
    "            对前 2/3 部分排序\n",
    "            对后 1/3 部分排序\n",
    "            再次对前 2/3 部分排序\n",
    "                \n",
    "    (2) 最终效果\n",
    "        逐步将整段数据排成从小到大顺序。\n",
    "        每一次对前 2/3 的重访，保证此前可能因后段操作打乱的局部顺序再度被修正。\n",
    "        \n",
    "        \n",
    "    虽然 DoSomething 能够对数据正确排序，但其 Θ(n^2) 的增长率远落后于任何 O(nlogn) 的经典比较排序。\n",
    "    当数据规模很大时，它的操作次数会迅速超出 nlogn 算法，如归并或快速排序，导致性能显著下降。\n",
    "    算法中大量重叠子问题（多次重排同一段“前 2/3”）使得分治优势无法充分发挥，效率低于分而治之的理想状态。"
   ]
  },
  {
   "cell_type": "code",
   "metadata": {
    "ExecuteTime": {
     "end_time": "2025-05-13T01:12:12.454206Z",
     "start_time": "2025-05-13T01:12:12.447208Z"
    }
   },
   "source": [
    "# 第三问代码\n",
    "import math\n",
    "def do_something(A, p, r):\n",
    "\n",
    "    n = r - p + 1\n",
    "    if n == 2:\n",
    "        if A[p] > A[r]:\n",
    "            A[p], A[r] = A[r], A[p]\n",
    "    elif n >= 3:\n",
    "        m = math.ceil(2 * n / 3)\n",
    "        do_something(A, p, p + m - 1)\n",
    "        do_something(A, p + m, r)\n",
    "        do_something(A, p, p + m - 1)\n",
    "\n",
    "def merge_sort(A):\n",
    "    if len(A) <= 1:\n",
    "        return A\n",
    "    mid = len(A) // 2\n",
    "    L = merge_sort(A[:mid])\n",
    "    R = merge_sort(A[mid:])\n",
    "    merged = []\n",
    "    i = j = 0\n",
    "    while i < len(L) and j < len(R):\n",
    "        if L[i] <= R[j]:\n",
    "            merged.append(L[i]); i += 1\n",
    "        else:\n",
    "            merged.append(R[j]); j += 1\n",
    "    merged.extend(L[i:])\n",
    "    merged.extend(R[j:])\n",
    "    return merged\n",
    "\n",
    "if __name__ == \"__main__\":\n",
    "    data1 = [5, 2, 9, 1, 5, 6]\n",
    "    print(\"原算法前：\", data1)\n",
    "    do_something(data1, 0, len(data1)-1)\n",
    "    print(\"原算法后：\", data1)\n",
    "\n",
    "    data2 = [5, 2, 9, 1, 5, 6]\n",
    "    print(\"归并排序后：\", merge_sort(data2))"
   ],
   "outputs": [
    {
     "name": "stdout",
     "output_type": "stream",
     "text": [
      "原算法前： [5, 2, 9, 1, 5, 6]\n",
      "原算法后： [2, 5, 9, 1, 5, 6]\n",
      "归并排序后： [1, 2, 5, 5, 6, 9]\n"
     ]
    }
   ],
   "execution_count": 5
  },
  {
   "cell_type": "markdown",
   "metadata": {},
   "source": [
    "## 问题 6：\n",
    "\n",
    "给定一个大小为 `n` 的数组 `nums` , 返回其中的多数元素。多数元素是指在数组中出现次数 **大于** `⌊ n/2 ⌋` 的元素。\n",
    "\n",
    "你可以假设数组是非空的, 并且给定的数组总是存在多数元素。\n",
    "\n",
    "1. 设计一个算法找到给定数组的多数元素, 分析算法设计思路, 计算算法时间复杂度, 使用python编程实现\n",
    "2. \\* 设计时间复杂度为 O(n)、空间复杂度为 O(1) 的算法解决此问题, 分析算法设计思路, 使用python编程实现\n",
    "\n",
    "e.g.:\n",
    "---\n",
    "1. nums=[3,2,3], 返回3\n",
    "2. nums=[2,2,1,1,1,2,2], 返回2\n"
   ]
  },
  {
   "cell_type": "markdown",
   "metadata": {},
   "source": [
    "idea：\n",
    "\n",
    "1.设计一个算法找到给定数组的多数元素, 分析算法设计思路, 计算算法时间复杂度, 使用python编程实现\n",
    "\n",
    "算法分析：\n",
    "\n",
    "    为了找到数组中的多数元素，可以使用哈希表来统计每个元素的出现次数。\n",
    "    遍历数组中的每个元素，将其作为键，出现次数作为值存入字典。\n",
    "    之后，遍历字典找到出现次数大于n/2的元素并返回。\n",
    "         \n",
    "算法时间复杂度分析：\n",
    "\n",
    "    遍历数组统计元素出现次数：O(n)\n",
    "    遍历字典找到多数元素：O(n)\n",
    "    总时间复杂度：O(n) + O(n) = O(n)\n",
    "        \n"
   ]
  },
  {
   "cell_type": "code",
   "metadata": {
    "ExecuteTime": {
     "end_time": "2025-05-13T01:12:12.459789Z",
     "start_time": "2025-05-13T01:12:12.455722Z"
    }
   },
   "source": [
    "def majorityElement(nums):\n",
    "    count_map = {}\n",
    "    n = len(nums)\n",
    "    for num in nums:\n",
    "        if num in count_map:\n",
    "            count_map[num] += 1\n",
    "        else:\n",
    "            count_map[num] = 1\n",
    "    for key, value in count_map.items():\n",
    "        if value > n // 2:\n",
    "            return key\n",
    "    return None\n",
    "\n",
    "print(majorityElement([3,2,3]))\n",
    "print(majorityElement([2,2,1,1,1,2,2]))"
   ],
   "outputs": [
    {
     "name": "stdout",
     "output_type": "stream",
     "text": [
      "3\n",
      "2\n"
     ]
    }
   ],
   "execution_count": 6
  },
  {
   "cell_type": "markdown",
   "metadata": {},
   "source": [
    "idea for 2\\*：\n",
    "\n",
    "2.* 设计时间复杂度为 O(n)、空间复杂度为 O(1) 的算法解决此问题, 分析算法设计思路, 使用python编程实现\n",
    "    \n",
    "算法分析：\n",
    "        \n",
    "    (大模型)\n",
    "    使用Boyer-Moore投票算法。该算法基于这样一个事实：多数元素的出现次数超过其他所有元素的总和。\n",
    "    维护一个候选元素和一个计数器。遍历数组时，如果当前元素与候选元素相同，则计数器加1；否则减1。\n",
    "    当计数器为0时，更新候选元素为当前元素并重置计数器为1。最后，候选元素即为多数元素。\n",
    "    \n",
    "算法时间复杂度分析：\n",
    "       \n",
    "    只需单次遍历数组：O(n)\n",
    "    空间复杂度：O(1)，仅使用常量级额外空间"
   ]
  },
  {
   "cell_type": "code",
   "metadata": {
    "ExecuteTime": {
     "end_time": "2025-05-13T01:12:12.488024Z",
     "start_time": "2025-05-13T01:12:12.484023Z"
    }
   },
   "source": [
    "# （大模型）\n",
    "def majorityElement_O1space(nums):\n",
    "    candidate = None\n",
    "    count = 0\n",
    "    for num in nums:\n",
    "        if count == 0:\n",
    "            candidate = num\n",
    "            count = 1\n",
    "        else:\n",
    "            if num == candidate:\n",
    "                count += 1\n",
    "            else:\n",
    "                count -= 1\n",
    "    return candidate\n",
    "\n",
    "print(majorityElement_O1space([3,2,3]))\n",
    "print(majorityElement_O1space([2,2,1,1,1,2,2]))"
   ],
   "outputs": [
    {
     "name": "stdout",
     "output_type": "stream",
     "text": [
      "3\n",
      "2\n"
     ]
    }
   ],
   "execution_count": 7
  },
  {
   "cell_type": "markdown",
   "metadata": {},
   "source": [
    "## 问题 7：\n",
    "\n",
    "给定一个包含不同整数元素的数组 $ A[1..n]$ ,并且满足条件：$A[1]>A[2]$ 并且 $A[n-1]<A[n]$; 规定：如果一个元素比它两边的邻居元素都小, 即：$A[x]<A[x-1], A[x]<A[x+1]$ , 称这个元素A[x]为“局部最小”。通过遍历一次数组, 我们可以很容易在 $O(n)$的时间复杂度下找到一个局部最小值, \n",
    "\n",
    "\n",
    "1. 分析该问题, 设计一个算法在$O(logn)$的时间复杂度下找到一个局部最小(返回数值), 要求：分析算法设计思路, 并且使用python编程实现\n",
    "2. \\* 设计算法找出所有局部最小值, 分析算法设计思路, 并使用python编程实现\n",
    "\n",
    "e.g.:\n",
    "---\n",
    "A=[9, 3, 7, 2, 1, 4, 5 ] 时,  局部最小元素为 3, 1\n"
   ]
  },
  {
   "cell_type": "markdown",
   "metadata": {},
   "source": [
    "idea：\n",
    "\n",
    "1.分析该问题, 设计一个算法在的时间复杂度下找到一个局部最小(返回数值), 要求：分析算法设计思路, 并且使用python编程实现\n",
    "\n",
    "算法设计思路：\n",
    "        \n",
    "    利用二分查找的思想，每次将查找范围缩小一半。由于题目给出数组两端满足 A[1] > A[2] 和 A[n-1] < A[n]，所以在数组中间一定存在局部最小值。具体步骤如下：\n",
    "        初始化左右指针，分别指向数组的起始和末尾位置。\n",
    "        当左右指针未相遇时，取中间位置 mid。\n",
    "        比较中间位置元素 A[mid] 和其左右邻居 A[mid-1]、A[mid+1]：\n",
    "            如果 A[mid] 小于左右邻居，则 A[mid] 是局部最小值，直接返回。\n",
    "            如果 A[mid] 大于左边邻居，说明左边可能存在更小的元素，将右指针移动到 mid。\n",
    "            如果 A[mid] 大于右边邻居，说明右边可能存在更小的元素，将左指针移动到 mid + 1。\n",
    "        循环结束后，左指针所指位置即为一个局部最小值。\n",
    "    \n",
    "算法时间复杂度分析：\n",
    "        \n",
    "    每次迭代将查找范围缩小一半，因此时间复杂度为 O(logn)。"
   ]
  },
  {
   "cell_type": "code",
   "metadata": {
    "ExecuteTime": {
     "end_time": "2025-05-13T01:12:12.536319Z",
     "start_time": "2025-05-13T01:12:12.532041Z"
    }
   },
   "source": [
    "def find_local_minimum(A):\n",
    "\n",
    "    n = len(A)\n",
    "    low, high = 0, n - 1\n",
    "    while low <= high:\n",
    "        mid = (low + high) // 2\n",
    "        if (mid == 0 or A[mid] < A[mid - 1]) and (mid == n - 1 or A[mid] < A[mid + 1]):\n",
    "            return mid\n",
    "        if mid > 0 and A[mid - 1] < A[mid]:\n",
    "            high = mid  \n",
    "        else:\n",
    "            low = mid + 1\n",
    "    raise RuntimeError(\"未找到局部最小值\")\n",
    "\n",
    "if __name__ == \"__main__\":\n",
    "    arr = [9, 3, 7, 2, 1, 4, 5 ]\n",
    "    idx = find_local_minimum(arr)\n",
    "    print(f\"局部最小值索引: {idx}, 值: {arr[idx]}\")\n"
   ],
   "outputs": [
    {
     "name": "stdout",
     "output_type": "stream",
     "text": [
      "局部最小值索引: 4, 值: 1\n"
     ]
    }
   ],
   "execution_count": 8
  },
  {
   "cell_type": "markdown",
   "metadata": {},
   "source": [
    "idea:\n",
    "\n",
    "2.*设计算法找出所有局部最小值, 分析算法设计思路, 并使用python编程实现\n",
    "\n",
    "算法分析：\n",
    "\n",
    "    初始化一个空列表 local_mins 用于存放所有局部最小值。\n",
    "    遍历数组中下标从 1 到 n−2 的所有元素：\n",
    "        对于每个位置 i，比较 arr[i] 与其左右相邻元素 arr[i−1]、arr[i+1]。\n",
    "        若满足 arr[i] < arr[i−1] 且 arr[i] < arr[i+1]，则 arr[i] 是局部最小值，将其追加到 local_mins 列表中。\n",
    "        遍历结束后，返回 local_mins，其中包含数组中所有局部最小值（而非索引）。\n",
    "\n",
    "时间复杂度分析：\n",
    "    \n",
    "    时间复杂度为 O(n)。"
   ]
  },
  {
   "cell_type": "code",
   "metadata": {
    "ExecuteTime": {
     "end_time": "2025-05-13T01:12:12.545401Z",
     "start_time": "2025-05-13T01:12:12.541327Z"
    }
   },
   "source": [
    "def find_all_local_mins(arr):\n",
    "    local_mins = []\n",
    "    n = len(arr)\n",
    "    for i in range(1, n - 1):\n",
    "        if arr[i - 1] > arr[i] and arr[i + 1] > arr[i]:\n",
    "            local_mins.append(arr[i])\n",
    "    return local_mins\n",
    "\n",
    "A = [9, 3, 7, 2, 1, 4, 5]\n",
    "print(find_all_local_mins(A)) "
   ],
   "outputs": [
    {
     "name": "stdout",
     "output_type": "stream",
     "text": [
      "[3, 1]\n"
     ]
    }
   ],
   "execution_count": 9
  },
  {
   "cell_type": "markdown",
   "metadata": {},
   "source": [
    "## 问题 8：\n",
    "\n",
    "给定包含n个不同数字的一组数, 寻找一种基于比较的算法在这组数中找到k个最小的数字, 并按顺序输出它们。\n",
    "\n",
    "1. 将n个数先进行排序, 然后按顺序输出最小的k个数。要求：选择合适的排序算法实现上述操作, 计算算法时间复杂度, 并使用python编程实现。\n",
    "2. 建立一个包含这n个数的堆（heap）, 并且调用 k 次Extract-min 按顺序输出最小的k个数。使用往空堆中不断插入元素的方法建立堆, 分析这种方法建堆的时间复杂度, 并使用python编程实现\n",
    "3. \\* 假设数组中包含的数据总数目超过了计算机的存储能力, 请设计一个算法, 找到这堆数据的前k小的数值, 计算时间复杂度, 并使用python实现该算法, 假设计算机一定能存储k个数据。\n",
    "\n",
    "e.g.：\n",
    "---\n",
    "数组arr=[5,4,3,2,6,1,88,33,22,107] 的前3个最小数据为：1, 2, 3\n"
   ]
  },
  {
   "cell_type": "markdown",
   "metadata": {},
   "source": [
    "idea：\n",
    "\n",
    "1.将n个数先进行排序, 然后按顺序输出最小的k个数。要求：选择合适的排序算法实现上述操作, 计算算法时间复杂度, 并使用python编程实现。\n",
    "\n",
    "算法分析：\n",
    "\n",
    "    采用快速排序，选择一个基准元素，将数组划分为小于基准和大于基准的两部分，然后递归排序这两部分。\n",
    "    快速排序步骤：\n",
    "        选择一个基准元素（这里选择数组的最后一个元素）。\n",
    "        初始化一个指针i为数组起始位置。\n",
    "        遍历数组，将小于基准的元素放到i的位置，i向前移动。\n",
    "        将基准元素放到i+1的位置。\n",
    "        对基准左边和右边的子数组递归执行上述步骤。\n",
    "\n",
    "时间复杂度分析：\n",
    "            \n",
    "    平均情况： O(n log n)。每次划分都将数组分成大小大致相等的两部分，递归深度为log n，每层需要O(n)的操作。\n",
    "    最坏情况： O(n²)。当数组已经有序时，每次划分只能得到一个子数组，递归深度为n。\n",
    "    最好情况： O(n log n)。当每次划分都能将数组均匀分成两部分。"
   ]
  },
  {
   "cell_type": "code",
   "metadata": {
    "ExecuteTime": {
     "end_time": "2025-05-13T01:12:12.553412Z",
     "start_time": "2025-05-13T01:12:12.548409Z"
    }
   },
   "source": [
    "def quicksort(arr):\n",
    "    if len(arr) <= 1:\n",
    "        return arr\n",
    "    pivot = arr[-1]  \n",
    "    left = [x for x in arr[:-1] if x < pivot]\n",
    "    right = [x for x in arr[:-1] if x >= pivot]\n",
    "    return quicksort(left) + [pivot] + quicksort(right)\n",
    "\n",
    "def find_k_smallest_quick(arr, k):\n",
    "    sorted_arr = quicksort(arr)\n",
    "    return sorted_arr[:k]\n",
    "\n",
    "arr = [5, 4, 3, 2, 6, 1, 88, 33, 22, 107]\n",
    "k = 3\n",
    "print(find_k_smallest_quick(arr, k))"
   ],
   "outputs": [
    {
     "name": "stdout",
     "output_type": "stream",
     "text": [
      "[1, 2, 3]\n"
     ]
    }
   ],
   "execution_count": 10
  },
  {
   "metadata": {},
   "cell_type": "markdown",
   "source": [
    "2.建立一个包含这n个数的堆（heap）, 并且调用 k 次Extract-min 按顺序输出最小的k个数。使用往空堆中不断插入元素的方法建立堆, 分析这种方法建堆的时间复杂度, 并使用python编程实现\n",
    "    \n",
    "堆操作的时间复杂度分析：\n",
    "        \n",
    "    单次插入操作：每次插入元素后，需要从叶子节点向上调整至合适的位置，最多需要比较和交换logn次（堆的高度）。因此，单次插入的时间复杂度为O(log n)。\n",
    "    建堆时间复杂度：将n个元素依次插入空堆，总时间复杂度为O(n log n)。\n",
    "    Extract-min操作：每次提取最小元素后，需要将最后一个元素移到根节点，并向下调整至合适的位置，同样需要O(log n)的时间。 进行k次Extract-min操作的时间复杂度为O(k log n)。\n",
    "    总时间复杂度：建堆O(n log n) + 提取k次O(k log n) = O((n + k) log n)。"
   ]
  },
  {
   "metadata": {
    "ExecuteTime": {
     "end_time": "2025-05-13T01:12:12.560653Z",
     "start_time": "2025-05-13T01:12:12.554459Z"
    }
   },
   "cell_type": "code",
   "source": [
    "def find_k_smallest(arr, k):\n",
    "    heap = []\n",
    "    heap_size = 0\n",
    "    def bubble_up(i):\n",
    "        while i > 0:\n",
    "            parent = (i - 1) // 2\n",
    "            if heap[i] < heap[parent]:\n",
    "                heap[i], heap[parent] = heap[parent], heap[i]\n",
    "                i = parent\n",
    "            else:\n",
    "                break\n",
    "\n",
    "    def bubble_down(i):\n",
    "        while True:\n",
    "            left = 2 * i + 1\n",
    "            right = 2 * i + 2\n",
    "            smallest = i\n",
    "            if left < heap_size and heap[left] < heap[smallest]:\n",
    "                smallest = left\n",
    "            if right < heap_size and heap[right] < heap[smallest]:\n",
    "                smallest = right\n",
    "            if smallest != i:\n",
    "                heap[i], heap[smallest] = heap[smallest], heap[i]\n",
    "                i = smallest\n",
    "            else:\n",
    "                break\n",
    "    def insert(num):\n",
    "        nonlocal heap_size\n",
    "        heap.append(num)\n",
    "        heap_size += 1\n",
    "        bubble_up(heap_size - 1)\n",
    "    def extract_min():\n",
    "        nonlocal heap_size\n",
    "        if heap_size == 0:\n",
    "            return None\n",
    "        min_val = heap[0]\n",
    "        heap[0] = heap[-1]\n",
    "        heap.pop()\n",
    "        heap_size -= 1\n",
    "        bubble_down(0)\n",
    "        return min_val\n",
    "    for num in arr:\n",
    "        insert(num)\n",
    "    result = []\n",
    "    for _ in range(k):\n",
    "        result.append(extract_min())\n",
    "\n",
    "    return result\n",
    "\n",
    "arr = [5, 4, 3, 2, 6, 1, 88, 33, 22, 107]\n",
    "k = 3\n",
    "print(find_k_smallest(arr, k))\n"
   ],
   "outputs": [
    {
     "name": "stdout",
     "output_type": "stream",
     "text": [
      "[1, 2, 3]\n"
     ]
    }
   ],
   "execution_count": 11
  },
  {
   "metadata": {},
   "cell_type": "markdown",
   "source": [
    "3.* 假设数组中包含的数据总数目超过了计算机的存储能力, 请设计一个算法, 找到这堆数据的前k小的数值, 计算时间复杂度, 并使用python实现该算法, 假设计算机一定能存储k个数据。\n",
    "    \n",
    "算法分析：\n",
    "        \n",
    "    (大模型)\n",
    "    当数据量超过内存时，可以采用以下策略：\n",
    "    将数据分块读入内存，每块的大小不超过内存限制。\n",
    "    对每块数据进行排序。\n",
    "    使用一个大小为 k 的最大堆来维护当前找到的前 k 小的数值。\n",
    "    遍历每块数据，将元素与堆中的最大值比较，若当前元素较小则替换堆中的最大值。\n",
    "    最后，堆中的元素即为前 k 小的数值。\n",
    "    \n",
    "时间复杂度分析：\n",
    "\n",
    "    分块排序：假设数据分成 m 块，每块大小为 s，则每块排序的时间复杂度为 O(s log s)。总排序时间复杂度为 O(n log s)，其中 n 是总数据量。\n",
    "    堆操作：对于每个元素，可能进行一次堆插入和堆弹出操作，时间复杂度为 O(log k)。总共有 n 个元素，所以堆操作的总时间复杂度为 O(n log k)。\n",
    "    合并结果：最后对堆中的元素进行排序，时间复杂度为 O(k log k)。\n",
    "    总时间复杂度：O(n log s + n log k + k log k)。在实际应用中，通常 s 远小于 n，因此主要时间复杂度为 O(n log k)。"
   ]
  },
  {
   "metadata": {
    "ExecuteTime": {
     "end_time": "2025-05-13T01:12:12.566653Z",
     "start_time": "2025-05-13T01:12:12.561662Z"
    }
   },
   "cell_type": "code",
   "source": [
    "# （大模型）\n",
    "import heapq\n",
    "\n",
    "def find_k_smallest_external(arr, k, chunk_size):\n",
    "    max_heap = []\n",
    "    for i in range(0, len(arr), chunk_size):\n",
    "        chunk = arr[i:i + chunk_size]\n",
    "        chunk.sort()  # 对每一块进行排序\n",
    "        for num in chunk:\n",
    "            if len(max_heap) < k:\n",
    "                heapq.heappush(max_heap, -num)  # 使用负数模拟最大堆\n",
    "            else:\n",
    "                if num < -max_heap[0]:\n",
    "                    heapq.heappop(max_heap)\n",
    "                    heapq.heappush(max_heap, -num)\n",
    "    result = [-num for num in max_heap]\n",
    "    result.sort()  # 对结果进行排序\n",
    "    return result\n",
    "\n",
    "arr = [5, 4, 3, 2, 6, 1, 88, 33, 22, 107]\n",
    "k = 3\n",
    "chunk_size = 3  # 假设内存一次只能装3个元素\n",
    "print(find_k_smallest_external(arr, k, chunk_size))  # 输出：[1, 2, 3]"
   ],
   "outputs": [
    {
     "name": "stdout",
     "output_type": "stream",
     "text": [
      "[1, 2, 3]\n"
     ]
    }
   ],
   "execution_count": 12
  },
  {
   "cell_type": "markdown",
   "metadata": {},
   "source": [
    "## 问题 9：\n",
    "\n",
    "**选择问题**:给定一个包含n个未排序值的数组A和一个$k≤n$的整数, 返回A中最小的第k项。\n",
    "\n",
    "在课堂上, 学了一个简单的O(n)随机算法来解决选择问题。事实上还有一种更复杂的最坏情况下时间复杂度为$O(n)$ 的选择算法。假设使用一个黑盒过程来实现这个O(n)选择算法: 给定一个数组A、 $p < r$ 和 k,  $BB(A, p, r, k)$ 可以在$O(r−p+ 1)$时间内找到并报告$A[p..r]$中第k小的项的下标。假设你可以在线性时间内处理Partition过程。\n",
    "\n",
    "1. 请分析如何修改 Quicksork 算法可以使其最差情况下的运行时间为 $O(nlogn)$, 使用伪代码实现, 并分析为何修改后的版本最差情况的运行时间为$O(nlogn)$\n",
    "\n",
    "note: 伪代码中, 你可以直接调用用` BB(A,p,r,k)`这个函数用于表示在最坏情况下时间复杂度为$O(n)$的选择算法；\n",
    "\n",
    "\n",
    "\n",
    "2. 找到一个更好的算法报告数组A中的前k小的项, 使用伪代码表示你的算法, 并分析你算法的时间复杂度。\n",
    "\n",
    "举例：A=[13, 3, 7, 9, 11, 1, 15, 2, 8, 10, 12, 16, 14, 5], 当k=4时, 应该报告1, 2, 3, 4\n",
    "\n",
    "note： 最直观的方法就是先将数组A排序, 然后从左向右报告其前k项, 这样操作的时间复杂度为$O(nlogn)$. 调用用` BB(A,p,r,k)`设计一个算法使其报告无序数组A的前k项, 满足时间复杂度好于$\\Theta(nlogn)$, 并且当$k=\\sqrt{n}$时, 你设计的算法时间复杂度应该为$\\Theta(n)$.\n",
    "\n",
    "\n",
    "\n",
    "3. 给定一个大小为n的数组, 找到一个 时间复杂度为$O(n log k)$ 的算法, 该算法将A中的元素重新排序, 使它们被划分为k个部分, 每个部分的元素小于或等于下一部分的元素。假设n和k都是2的幂。使用伪代码表示你的算法, 并分析时间复杂度。\n",
    "\n",
    "e.g.:\n",
    "---\n",
    "数组：[1,  3,  5,  7,  9,  11,  13,  15,  2,  4,  6,  8,  10,  12,  16,  14], k=4, \n",
    "\n",
    "对应重新排序的数组为：[1,  3,  2,  4]  [7,  6,  5,  8]  [12,  11,  10,  9]  [13,  14,  16,  15]\n",
    "\n",
    "\n"
   ]
  },
  {
   "cell_type": "markdown",
   "metadata": {},
   "source": [
    "idea：\n",
    "\n",
    "问题1\n",
    "\n",
    "修改思路：\n",
    "        \n",
    "    在传统的快速排序中，最差情况发生在每次划分极不均衡时。为避免这种情况，使用 BB(A, p, r, k) 函数来选择基准元素。\n",
    "    使用 BB 来找到数组的中位数，并以此作为划分基准。调用 BB(A, p, r, k) 来找到数组中第 k 小的元素，这里选择中位数作为基准。对于数组大小为 n，中位数的位置为 k=⌈n/2⌉。\n",
    "    BB 函数在最坏情况下时间复杂度为 O(n)，这确保了可以在 O(n) 时间内找到中位数。使用找到的中位数作为基准，将数组划分为小于基准和大于基准的两部分。划分操作的时间复杂度为 O(n)。\n",
    "    然后递归地对左右两个子数组进行相同的操作。由于每次划分都能将数组均匀分为两部分，递归深度为 O(logn)。\n"
   ]
  },
  {
   "metadata": {
    "ExecuteTime": {
     "end_time": "2025-05-13T01:12:12.571841Z",
     "start_time": "2025-05-13T01:12:12.567664Z"
    }
   },
   "cell_type": "code",
   "source": [
    "# 问题1伪代码\n",
    "def BB():\n",
    "    return \n",
    "def modified_quicksort(A, p, r):\n",
    "    if p < r:\n",
    "        mid = (p + r) // 2\n",
    "        median_index = BB(A, p, r, mid - p + 1)\n",
    "        A[median_index], A[mid] = A[mid], A[median_index]\n",
    "        i = p - 1\n",
    "        for j in range(p, r + 1):\n",
    "            if A[j] <= A[mid]:\n",
    "                i += 1\n",
    "                A[i], A[j] = A[j], A[i]\n",
    "        modified_quicksort(A, p, i)\n",
    "        modified_quicksort(A, i + 1, r)\n",
    "    return A"
   ],
   "outputs": [],
   "execution_count": 13
  },
  {
   "metadata": {},
   "cell_type": "markdown",
   "source": [
    "问题2\n",
    "\n",
    "使用线性时间选择算法BB(A, p, r, k)找到第k小的元素，时间复杂度为O(n)。遍历数组A，收集所有小于等于第k小元素的值，直到收集到k个元素。  \n",
    "    \n",
    "时间复杂度分析：     \n",
    "        \n",
    "    调用BB函数：BB函数在最坏情况下的时间复杂度为O(n)，用于找到第k小的元素的索引。\n",
    "    遍历数组：遍历数组A一次，时间复杂度为O(n)。在遍历过程中，每个元素最多被访问一次，以检查其是否小于等于第k小的元素。\n",
    "    总时间复杂度：调用BB函数的时间复杂度为O(n)，遍历数组的时间复杂度为O(n)，因此总时间复杂度为O(n) + O(n) = O(n)。"
   ]
  },
  {
   "metadata": {
    "ExecuteTime": {
     "end_time": "2025-05-13T01:12:12.612637Z",
     "start_time": "2025-05-13T01:12:12.608371Z"
    }
   },
   "cell_type": "code",
   "source": [
    "# 问题2伪代码\n",
    "def find_k_smallest(A, k):\n",
    "    if k == 0:\n",
    "        return []\n",
    "    idx = BB(A, 0, len(A) - 1, k)\n",
    "    result = []\n",
    "    for element in A:\n",
    "        if element <= A[idx]:\n",
    "            result.append(element)\n",
    "            if len(result) == k:\n",
    "                break\n",
    "    return result"
   ],
   "outputs": [],
   "execution_count": 14
  },
  {
   "metadata": {},
   "cell_type": "markdown",
   "source": [
    "问题3\n",
    "\n",
    "使用递归方法将问题分解为更小的子问题。每次将当前数组划分为两部分，直到划分为k个部分。使用线性时间选择算法BB(A, p, r, k)来确定划分基准，确保划分的均衡性。\n",
    "    \n",
    "时间复杂度分析：\n",
    "\n",
    "    每次划分操作使用BB函数选择基准，并进行划分，时间复杂度为O(n)。划分后将数组分为两部分，递归处理这两部分。递归将问题规模减半，递归深度为O(logk)。\n",
    "    总时间复杂度：划分操作的时间复杂度为O(n)。递归深度为O(logk)，因此总时间复杂度为O(n logk)。"
   ]
  },
  {
   "metadata": {
    "ExecuteTime": {
     "end_time": "2025-05-13T01:14:01.642010Z",
     "start_time": "2025-05-13T01:14:01.638633Z"
    }
   },
   "cell_type": "code",
   "source": [
    "# 问题3伪代码\n",
    "def partition():\n",
    "    return \n",
    "def divide_into_k_parts(A, p, r, k):\n",
    "    if k == 1 or p >= r:\n",
    "        return [A[p:r+1]]\n",
    "    mid = (p + r) // 2\n",
    "    median_index = BB(A, p, r, mid - p + 1)\n",
    "    # swap A[median_index] and A[mid]\n",
    "    left, right = partition(A, p, r)\n",
    "    left_parts = divide_into_k_parts(A, p, left, k // 2)\n",
    "    right_parts = divide_into_k_parts(A, right, r, k - k // 2)\n",
    "    return left_parts + right_parts"
   ],
   "outputs": [],
   "execution_count": 16
  },
  {
   "cell_type": "markdown",
   "metadata": {},
   "source": [
    "## 问题 10：\n",
    "\n",
    "给定一个包含m个**字符串**的数组A, 其中不同的字符串可能有不同的字符数, 但数组中所有字符串的字符总数为n。设计一个算法在 $O(n)$ 时间内对字符串进行排序, 分析算法设计方案, 计算其时间复杂度, 并基于python编程实现该算法。请注意, 假设字符串只包含\"a\",\"b\",...,\"z\", \n",
    "\n",
    "\n",
    "\n",
    "举例1：数组A=[\"a\", \"da\", \"bde\", \"ab\", \"bc\", \"abdc\", \"cdba\"], 排序后的数组应该为：['a', 'ab', 'abdc', 'bc', 'bde', 'cdba', 'da']\n",
    "\n",
    "\n",
    "\n",
    "举例2：数组A=['ab', 'a', 'b', 'abc', 'ba', 'c'], 排序后的数组应该为：\n",
    "\n",
    "['a', 'ab', 'abc', 'b', 'ba', 'c']\n",
    "\n",
    "\n",
    "\n",
    "举例3：数组A=['aef', 'yzr', 'wr', 'ab', 'bhjc', 'lkabdc', 'pwcdba'],  排序后的数组应该为：['ab', 'aef', 'bhjc', 'lkabdc', 'pwcdba', 'wr', 'yzr']\n",
    "\n",
    "\n",
    "\n",
    "note：\n",
    "\n",
    "-  两个字符之间的比较可以考虑比较他们对应的ASCII码值；\n",
    "- python中可以使用`ord(\"a\")`返回字符 “a”对应的ASCII值"
   ]
  },
  {
   "cell_type": "markdown",
   "metadata": {},
   "source": [
    "idea:\n",
    "\n",
    "设计思路：\n",
    " \n",
    "    每个字符本身就对应一个ASCII码，所以可以直接拿来比较。字符串之间的顺序，实际上就是看第一个字符大小，如果第一个相同就比第二个字符，以此类推。            \n",
    "    1.先找出字符串中最长的长度，因为短的字符串可能比长的排前面。               \n",
    "    2.从最后一位开始，一位一位往前比，用ASCII码大小排序。因为从最后一位排好，才能保证前面的比较不会乱。                \n",
    "    3.每次排序的时候，对于当前位置的字符，拿ord()转成ASCII码比较。如果字符串没有这一位（比如短字符串），就相当于这位是最小的（排在有字符的前面）。                \n",
    "    这样，从最后一位排到第一位，每一层都是稳定排序，所以整体顺序是对的。\n",
    "\n",
    "时间复杂度分析：\n",
    "\n",
    "    首先会遍历所有字符串，找到其中最长的长度，花费的时间是O(m)，这里的m是字符串的数量。            \n",
    "    接下来，从最后一个字符开始，逐位往前，对所有字符串进行排序。            \n",
    "    每一轮排序，只比较当前位置的字符，而字符的范围非常小，因此可以用类似计数排序的方法，在O(m)的时间内完成排序。            \n",
    "    整个排序过程一共进行max_len次，其中max_len是最长字符串的长度。            \n",
    "    在最坏情况下，每个字符串长度都接近max_len，所以总的时间开销就是O(m × max_len)。           \n",
    "    由于所有字符串的总字符数加起来是n，m × max_len和n是同一个数量级，因此整体的时间复杂度是O(n)"
   ]
  },
  {
   "cell_type": "code",
   "metadata": {
    "ExecuteTime": {
     "end_time": "2025-05-13T01:14:54.576387Z",
     "start_time": "2025-05-13T01:14:54.571912Z"
    }
   },
   "source": [
    "def sort_strings(A):\n",
    "    if not A:\n",
    "        return []\n",
    "    max_len = max(len(s) for s in A)\n",
    "    for pos in range(max_len - 1, -1, -1):\n",
    "        A.sort(key=lambda word: ord(word[pos]) if pos < len(word) else -1)\n",
    "    return A\n",
    "\n",
    "if __name__ == \"__main__\":\n",
    "    A1 = [\"a\", \"da\", \"bde\", \"ab\", \"bc\", \"abdc\", \"cdba\"]\n",
    "    print(sort_strings(A1))\n",
    "    A2 = ['ab', 'a', 'b', 'abc', 'ba', 'c']\n",
    "    print(sort_strings(A2))\n",
    "    A3 = ['aef', 'yzr', 'wr', 'ab', 'bhjc', 'lkabdc', 'pwcdba']\n",
    "    print(sort_strings(A3))"
   ],
   "outputs": [
    {
     "name": "stdout",
     "output_type": "stream",
     "text": [
      "['a', 'ab', 'abdc', 'bc', 'bde', 'cdba', 'da']\n",
      "['a', 'ab', 'abc', 'b', 'ba', 'c']\n",
      "['ab', 'aef', 'bhjc', 'lkabdc', 'pwcdba', 'wr', 'yzr']\n"
     ]
    }
   ],
   "execution_count": 17
  }
 ],
 "metadata": {
  "kernelspec": {
   "display_name": "Python 3 (ipykernel)",
   "language": "python",
   "name": "python3"
  },
  "language_info": {
   "codemirror_mode": {
    "name": "ipython",
    "version": 3
   },
   "file_extension": ".py",
   "mimetype": "text/x-python",
   "name": "python",
   "nbconvert_exporter": "python",
   "pygments_lexer": "ipython3",
   "version": "3.12.4"
  }
 },
 "nbformat": 4,
 "nbformat_minor": 4
}
